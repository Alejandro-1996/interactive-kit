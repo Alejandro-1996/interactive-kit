{
 "cells": [
  {
   "cell_type": "markdown",
   "metadata": {
    "kernel": "SoS"
   },
   "source": [
    "<img src=\"https://www.epfl.ch/about/overview/wp-content/uploads/2020/07/logo-epfl-1024x576.png\" style=\"padding-right:10px;width:140px;float:left\"></td>\n",
    "<h2 style=\"white-space: nowrap\">Tutorial on IPLabViewer</h2>\n",
    "<hr style=\"clear:both\">\n",
    "<p style=\"font-size:0.85em; margin:2px; text-align:justify\">\n",
    "This Juypter notebook is part of a project  funded by the Center for Digital Education and the School of Engineering of <a href=\"https://www.epfl.ch/\">EPFL</a>. . It is owned by the <a href=\"http://bigwww.epfl.ch/\">Biomedical Imaging Group</a>. \n",
    "The distribution or the reproduction of the notebook is strictly prohibited without the written consent of the authors.  &copy; EPFL 2020.\n",
    "<p style=\"font-size:0.85em; margin:0px\"><b>Authors</b>: \n",
    "    <a href=\"mailto:alejandro.nogueronaramburu@epfl.ch\">Alejandro Nogueron Aramburu</a>,\n",
    "    <a href=\"mailto:pol.delaguilapla@epfl.ch\">Pol Del Aguila Pla</a>, \n",
    "    <a href=\"mailto:kay.lachler@epfl.ch\">Kay Lächler</a>, and\n",
    "    <a href=\"mailto:daniel.sage@epfl.ch\">Daniel Sage</a>.\n",
    "</p>"
   ]
  },
  {
   "cell_type": "markdown",
   "metadata": {
    "kernel": "SoS"
   },
   "source": [
    "Welcome to the basic introduction to **IPLabViewer**! In here, you will learn about all the features of the class.\n",
    "\n",
    "## Index\n",
    "1. [Construction & Features](#-1.-Construction-&-Features)\n",
    "2. [Using Widgets](#-2.-Using-Widgets)\n",
    "3. [User Defined Widgets](#-3.-User-Defined-Widgets)\n",
    "4. [Programmatic Customization](#-4.-Programmatic-Customization)\n"
   ]
  },
  {
   "cell_type": "markdown",
   "metadata": {
    "kernel": "SoS"
   },
   "source": [
    "Before going on with the tutorial, make sure to go through our extensive [wiki](https://github.com/Biomedical-Imaging-Group/IPLabImageViewer/wiki/Python-IPLabViewer()-Class). You can call `help(viewer)` or `viewer?` in a cell to check the documentation. \n",
    "\n",
    "In the following cell, we import the required libraries (see [requirements.txt] for a full list). As best practice, we will be  importing **IPLabViewer**  as `viewer`. Our class runs without explicitly importing any external libraries (all are imported in the class' `.py` file). However, we will import the  external libraries:\n",
    "* [Ipywidgets](https://ipywidgets.readthedocs.io/en/latest/) to allow interactive visualization, \n",
    "* [Matplotlib](https://matplotlib.org/) to load images, and\n",
    "* [NumPy](https://numpy.org/) to perform any operations \n",
    "\n",
    "The magic command `%matplotlib widget` configures Matplotlib to use the Ipywidgets library to render dynamic plots. It allows us, for example, to zoom into images (button with a small square), and allows for proper functioning of the widgets. The IPLabViewer class **should not** be used outside the dynamic environment of Jupyter-Matplotlib. \n",
    "\n",
    "Run the cell below to import all necessary libraries."
   ]
  },
  {
   "cell_type": "code",
   "execution_count": 1,
   "metadata": {
    "kernel": "SoS"
   },
   "outputs": [],
   "source": [
    "# Configure plotting as dynamic\n",
    "%matplotlib widget\n",
    "# Import required packages for this exercise\n",
    "import matplotlib.pyplot as plt\n",
    "import ipywidgets as widgets\n",
    "import numpy as np\n",
    "# Import IPLabViewer\n",
    "from source.lib.iplabs import IPLabViewer as viewer\n",
    "\n",
    "# import sys  \n",
    "# sys.path.insert(0, './lib')\n",
    "# from iplabs import IPLabViewer as viewer"
   ]
  },
  {
   "cell_type": "markdown",
   "metadata": {
    "kernel": "SoS"
   },
   "source": [
    "Great! Your environment is all set. Just to make sure, run the following cell that will print the documentation (using `help(viewer)`) and load some images to use with the viewer. "
   ]
  },
  {
   "cell_type": "code",
   "execution_count": 2,
   "metadata": {
    "kernel": "SoS"
   },
   "outputs": [
    {
     "name": "stdout",
     "output_type": "stream",
     "text": [
      "Help on class IPLabViewer in module source.lib.iplabs:\n",
      "\n",
      "class IPLabViewer(builtins.object)\n",
      " |  IPLabViewer(image_list, **kwargs)\n",
      " |  \n",
      " |  The ImageViewer class allows you to quickly interact with an image and visualize its properties. You can easily change the brightness and contrast of your image, display a histogram , plot the image with different ranges and in different colormaps, perform operations on your image and access the statistics of it image (or a region of it). Plotted on top of the histogram, you will have a line that demonstrates the minimum and maximum values that are being used with respect to the original (the histogram will always show the original). The parameters and widgets are described below.\n",
      " |  \n",
      " |  For its construction, you should call:\n",
      " |  \n",
      " |  IPLabViewer([image1, image2, ...], **kwargs)\n",
      " |  \n",
      " |  Where the images are numpy arrays.\n",
      " |  \n",
      " |  The extra arguments are:\n",
      " |  - axis (boolean): Display the axis (units in pixels) of the image. Default is False,\n",
      " |  - callbacks (list of functions): The callback for your activation button when you want to include extra widgets (see new_widgets) to perform an operation/transformation on your image. This callback should have as only parameter an img (numpy array), and inside it, get the parameters of your transformation from other widgets, and then call your actual transformation. It should return an image (the result of the transformation),\n",
      " |  - clip_range (list or tuple of int): Indicates the min and max values that will be enforced on all images. Images with values outside this range will be clipped to these values.\n",
      " |  - cmap (string): A string with the colormap desired for the images (currently accepted are 'gray', 'viridis', 'inferno', 'ocean', 'nipy_spectral', 'copper', 'spring' and 'magma'). If you request a different one, the viewer will use the default value, 'gray'.\n",
      " |  - colorbar (boolean): Decides whether to set or not the colorbar from the beginning. The colorbar can later be set through the buttons. Default is False\n",
      " |  - hist (boolean): Display the histogram from the beginning (also displays widgets, has priority over 'widgets'). Default is False. Note that if you include an RGB/RGBA image in your image_list, a histogram will NOT appear for this image. If your image_list consists of only RGB/RGBA images, the whole functionality will be disabled.\n",
      " |  - new_widgets (list of ipywidgets): List of user-defined widgets. This functionality is meant to be used when the user wants to define an operation/transformation on the image, and see the results in real time withour the need to call the viewer again. The first widgets in the list should define the parameters of the operation (sliders, dropdown menus, text, etc.) and the last widget in the list is a button the activates a callback (see callbacks).\n",
      " |  - normalize (boolean): Scale the values of the image to the range [0, 1]. Default is False\n",
      " |  - pixel_grid (boolean): Plot a grid over each pixel. You should only use this function for very small images,\n",
      " |  - scale_range (list or tuple of int): Indicates the min and max values to which all images will be scaled. Not to be confused with clip_range. \n",
      " |  - subplots (list or tuple of int): If given, the Axes in the Figures (both for images and histograms) will have the given shape. If missing, the default behaviour will be set (one single image at a time)\n",
      " |  - title (list of strings): Titles of each of the images. The titles should be given in the same order as the images. If missing, the title will  be set to the stringified variable name of the image, \n",
      " |  - widgets (boolean): Display the widget menu.\n",
      " |  - joint_zoom (boolean) : Enables joint zooming. Default is False.\n",
      " |  \n",
      " |  If you don't set the parameters 'widgets' or 'hist' to True, then only the image with a button 'Show Widgets' and matplotlib's toolbar will be displayed. In the toolbar you will have three buttons:\n",
      " |  \n",
      " |  - Zoom button (square): Click on it and then select a region in your image to zoom to that region. \n",
      " |  - Pan button (cross with arrows): Click on it, then click, hold and drag on an image to pan the image.\n",
      " |  - Save button (disk): Take screenshow of figure and save in png format.\n",
      " |  \n",
      " |  Clicking the button 'Show Widgets' (equivalent to setting 'widgets = True' during construction) will take you to the widgets menu. In here, you will have the following widgets:\n",
      " |  - Brightness & Contrast slider: you can use this slider to adjust the brightness and contrast of grayscale images. When you move it, you will see the black line plotted on top of the histogram automatically update, to show you in which region of the histogram are you,\n",
      " |  - Show or hide histogram button,\n",
      " |  - Options button: It will take you to  the options menu, where you will be able to change the colormap, to show or hide the axis of your image, and to show a colorbar \n",
      " |  - Reset button: Reset all the parameters to the default (brightness and contrast, colormap, zoom)\n",
      " |  - Prev & Next buttons (only if there is more than one image if the parameter subplots was not given): Browse through images\n",
      " |  - Statistics text area: in here you will see the mean, standard deviation, range of values and size of your image. If there are 2 or more images being displayed at the same time, you will get the statistics in a list, where each index is the statistic of the corresponding image. The statistics will update automatically when you do any change to your image.\n",
      " |  \n",
      " |  Check the full documentation at (https://github.com/Biomedical-Imaging-Group/IPLabImageViewer/wiki) for more detailed explanations, tutorials and examples.\n",
      " |  \n",
      " |  Methods defined here:\n",
      " |  \n",
      " |  __init__(self, image_list, **kwargs)\n",
      " |      Initialize self.  See help(type(self)) for accurate signature.\n",
      " |  \n",
      " |  axis_button_click(self, change)\n",
      " |  \n",
      " |  b_and_c_button_click(self, change)\n",
      " |  \n",
      " |  back_button_callback(self, change)\n",
      " |  \n",
      " |  change_image(self, change=0)\n",
      " |      # Function to be used if single_image = True, by buttons prev and next\n",
      " |  \n",
      " |  clim_callback(self, change)\n",
      " |  \n",
      " |  cmap_callback(self, change)\n",
      " |  \n",
      " |  colorbar_button_click(self, change)\n",
      " |  \n",
      " |  get_histogram(self)\n",
      " |  \n",
      " |  get_statistics(self, images=None)\n",
      " |  \n",
      " |  hist_button_click(self, change)\n",
      " |  \n",
      " |  joint_zoom_callback(self, change=None)\n",
      " |      ## Button Callbacks\n",
      " |  \n",
      " |  link_axs(self)\n",
      " |      # Function that links all existing Axes to the Matplotlib callbacks, to act whenever axis limits change (e.i., when there is a zoom)\n",
      " |  \n",
      " |  load_logo(self)\n",
      " |      # Hard-coded EPFL BIG logo\n",
      " |  \n",
      " |  next_button_callback(self, change)\n",
      " |  \n",
      " |  options_button(self, change)\n",
      " |  \n",
      " |  prev_button_callback(self, change)\n",
      " |  \n",
      " |  reset(self, change)\n",
      " |  \n",
      " |  retrieve_name(self, var)\n",
      " |      # Auxiliary function to stringify the name of a variable\n",
      " |  \n",
      " |  save(self, change)\n",
      " |  \n",
      " |  set_axis(self, axis=False)\n",
      " |  \n",
      " |  set_colorbar(self, colorbar=True)\n",
      " |  \n",
      " |  set_colormap(self, colormap='gray')\n",
      " |  \n",
      " |  set_widgets(self, widgets=True)\n",
      " |  \n",
      " |  show_histogram(self, hist=False)\n",
      " |  \n",
      " |  showw_button_callback(self, change)\n",
      " |  \n",
      " |  update_hist_lines(self)\n",
      " |  \n",
      " |  update_histogram(self)\n",
      " |      # In case of any transformation to the image, this function will update the information\n",
      " |  \n",
      " |  update_stats(self)\n",
      " |  \n",
      " |  update_view(self)\n",
      " |  \n",
      " |  x_w_button_callback(self, change)\n",
      " |  \n",
      " |  x_w_callback(self, change)\n",
      " |      # Callback used when user declares an extra widget\n",
      " |  \n",
      " |  ----------------------------------------------------------------------\n",
      " |  Data descriptors defined here:\n",
      " |  \n",
      " |  __dict__\n",
      " |      dictionary for instance variables (if defined)\n",
      " |  \n",
      " |  __weakref__\n",
      " |      list of weak references to the object (if defined)\n",
      "\n"
     ]
    }
   ],
   "source": [
    "help(viewer)\n",
    "\n",
    "# Import images\n",
    "car   = plt.imread('images/car_pad.tif')\n",
    "hrct  = plt.imread('images/hrct.tif')\n",
    "epfl = plt.imread('images/epfl_snow.png')\n",
    "plate = plt.imread('images/plate.tif')\n",
    "boats = plt.imread('images/boats.tif')"
   ]
  },
  {
   "cell_type": "markdown",
   "metadata": {
    "kernel": "SoS"
   },
   "source": [
    "## <a class=\"anchor\"></a> 1. Construction & Features\n",
    "\n",
    "In this section we will illustrate many of the functionalities of IPLabViewer, as well as its customization capabilities. Run the following cell and explore its results while reading the explanatory cell below it. Commented you will find other ways of initiating the viewer. You can uncomment them and see the results, or experiment by yourself! "
   ]
  },
  {
   "cell_type": "code",
   "execution_count": 3,
   "metadata": {
    "kernel": "SoS"
   },
   "outputs": [
    {
     "data": {
      "application/vnd.jupyter.widget-view+json": {
       "model_id": "e068fdf80f4d45019b6bddba9b50a98a",
       "version_major": 2,
       "version_minor": 0
      },
      "text/plain": [
       "HBox(children=(Output(layout=Layout(width='80%')), Output(), Output(layout=Layout(width='25%'))))"
      ]
     },
     "metadata": {},
     "output_type": "display_data"
    }
   ],
   "source": [
    "# First we declare parameters for the viewer\n",
    "first_list = [boats, plate, car, hrct]\n",
    "title_list = ['Boats', 'Plate']\n",
    "\n",
    "# Now we call the image viewer with the image list as first argument. The rest of the arguments are optional\n",
    "first_viewer = viewer(first_list, title = title_list, colorbar = False, widgets = True, \n",
    "                      hist = False, axis = True, cmap = 'nipy_spectral')\n",
    "\n",
    "# first_viewer = viewer(first_list)\n",
    "# first_viewer = viewer(first_list, title = title_list, colorbar = False, widgets = True, \n",
    "#                       hist = False, axis = True, cmap = 'nipy_spectral', subplots = [2, 1])\n",
    "# first_viewer = viewer(epfl) \n",
    "\n",
    "# plt.figure()\n",
    "# plt.imshow(boats)"
   ]
  },
  {
   "cell_type": "markdown",
   "metadata": {
    "kernel": "SoS"
   },
   "source": [
    "To create an IPLabViewer object, you simply call the function `viewer`. You can do that without assigning a variable name, but it is best to do so. Ideally, the variable should be self-explanatory and end with the word *viewer* to avoid confusion (for example, `first_viewer` as in the cell above).\n",
    "\n",
    "* **Images**: The same viewer can load many images at once. In this example, it was created with $4$ images. By default, you can switch between the images using the buttons `Prev` and `Next` on the widgets panel.\n",
    "* **Titles**: You can give the viewer titles for each image, which will be shown immediately above it. If you do not provide a title for some images, the variable name will be shown by default. In this example, only $2$ were given, showing the default behaviour.\n",
    "* **Customization**: Several of the class' functionalities (e.g., `widgets`, `hist`, `axis`, `colorbar`) can be enabled from the beginning (they default to `False`). A user can later turn them off using the widgets or by calling methods ([see section 1.C](#-1.C.-Programmatic-Customization)) of the object. \n",
    "* **Colormap**: The colormap to be used can be set from the start with the parameter `cmap = 'colormap'`, and dynamically changed using `Options` and choosing one of the supported colormaps in the drop-down menu. \n",
    "* **Statistics**: On the lower part of the widget panel, the image statistics of the area of the image being displayed are shown. If you use the button with a little square at the left of the images to zoom into a selected region, you will see the statistics are updated in real time. You can also use the button with crossed double-arrows to pan through the image at a specific level of zoom. You can always use the button *Reset* to see the whole image again.\n",
    "\n",
    "<div class=\"alert alert-danger\">\n",
    "<b>Beware: </b> The statistics displayed in the <b>IPLabViewer</b> objects are rounded to the second decimal. If you need an exact statistic, use the methods `np.mean()` or `np.std()` on the images (NumPy arrays) directly.\n",
    "</div>\n",
    "\n",
    "* **Histogram**: Notice how there is a diagonal black line plotted on top of the histogram. If you change the *Brightness & Contrast* slider, this line will move according to the values of the histogram that you are visualizing.  \n",
    "\n",
    "<div class=\"alert alert-info\">\n",
    "<b>Note: </b> If you display an RGB/RGBA image, the histogram functionality will be disabled. Use the <i>Next</i> and <i>Prev</i> buttons to navigate through the images until you reach <code>epfl</code>, \n",
    "</div>\n",
    "\n",
    "* **Display mode**: There are two options to display a list of images:\n",
    "    * Default display: Display only one image at a time, and use the buttons *Next* and *Prev* to browse the different images. \n",
    "    * Set `subplots = [m, n]`: Arrange the images in an $m\\times n$ grid.\n",
    "    \n",
    "Modify the last cell, include the parameter `subplots = [m, n]`, and play with different values of `m`, `n`, and different options for the parameter `hist`. You will find that if `m*n < len(first_list)` that is, if there are less grid spaces than images, the *viewer* will only consider the images for which there is space for. On the other hand, if `m*n > len(first_list)`, you will have the required space, but without any images on it. The parameter `subplots` can be very helpful if you want to look at several images at the same time or side by side, but you will find that if you want to look at the images *and* histograms at the same time, the viewer starts getting very packed. \n",
    "\n",
    "<div class=\"alert alert-warning\">\n",
    "    \n",
    "<b>Note: </b> Consider that everytime you call a viewer, you are opening <b>two</b> matplotlib figures. This can quicly start consuming more memory than you would want. Though we do not close the figures through this tutorial (so that you can go back to previous viewers anytime), keep in mind that you can close them with the command <code>plt.close('all')</code> .\n",
    "</div>"
   ]
  },
  {
   "cell_type": "markdown",
   "metadata": {
    "kernel": "SoS"
   },
   "source": [
    "## <a class=\"anchor\"></a> 2. Using Widgets\n",
    "\n",
    "If you just want a quick visualization, you can instantiate the IPLabViewer with the image you want to display (or list of images). All the parameters will be set to their default values (`cmap = 'gray'`, one image being displayed at a time, all the features set to off), and you will see a button with the legend *Show Widgets* at the bottom-left of the image. If you later want to explore the image, you can use the widgets to change the settings. \n",
    "\n",
    "Run the next cell to get all the default settings. Go through all the widgets and explore their options (click on the button *Show Widgets* to activate them) while going through the explanatory cell below it."
   ]
  },
  {
   "cell_type": "code",
   "execution_count": 6,
   "metadata": {
    "kernel": "SoS"
   },
   "outputs": [
    {
     "data": {
      "application/vnd.jupyter.widget-view+json": {
       "model_id": "f4a052e2475145bf924b2cf9e4f35449",
       "version_major": 2,
       "version_minor": 0
      },
      "text/plain": [
       "HBox(children=(Output(layout=Layout(width='80%')), Output(), Output(layout=Layout(width='25%'))))"
      ]
     },
     "metadata": {},
     "output_type": "display_data"
    },
    {
     "data": {
      "application/vnd.jupyter.widget-view+json": {
       "model_id": "3066653a3c724ca8b12a9296e34b10b6",
       "version_major": 2,
       "version_minor": 0
      },
      "text/plain": [
       "Button(description='Show Widgets', style=ButtonStyle())"
      ]
     },
     "metadata": {},
     "output_type": "display_data"
    }
   ],
   "source": [
    "# Now we call the image viewer with the image list as first argument. The rest of the arguments are optional\n",
    "using_widgets_viewer = viewer([car, epfl, boats], subplots = [3, 1])\n",
    "# using_widgets_viewer.axs_hist"
   ]
  },
  {
   "cell_type": "markdown",
   "metadata": {
    "kernel": "SoS"
   },
   "source": [
    "Your first view will consist of:\n",
    "* A series of buttons at the extreme left, which serve to control the dynamic environment of matplotlib. If you hover your mouse in the buttons, wou will see what each button does. You can use them to zoom to a region, to pan the axis, and to save the current display in png format. The top button is to hide these three buttons.\n",
    "* At the right, you will see the figure holding the images (if you are unfamiliar with the matplotlib environment, you can check the documentation for a [Figure](https://matplotlib.org/3.3.1/api/_as_gen/matplotlib.figure.Figure.html#matplotlib.figure.Figure) (top container) and for an [AxesImage](https://matplotlib.org/3.1.1/api/image_api.html#matplotlib.image.AxesImage) (holding every image)). You can change the size of a figure using the small gray triangle (bottom-right corner). If you hover your cursor over the triangle, you will see it change to a two-sided arrow. By clicking on it and dragging you will be able to adjust the figure size.\n",
    "* A button with the legend *Show Widgets* below the figure. Clicking it will take you to the widget main menu. \n",
    "\n",
    "In the widgets main menu  (at the right of the figure) you will see the following widgets:\n",
    "* *Brightness and Contrast* Slider (with its label on top of it): In this menu you will be able to change the color scaling of a **grayscale** image through a slider, given in percentages of original.\n",
    "* *Show Histogram* Button: Show or hide the histograms of the images.\n",
    "* *Options* Button: It will take you to the options menu, where you will be able to show or hide the axis, the colorbar, and change the colormap (only grayscale images). \n",
    "* *Reset* Button: If you clicking after doing any operations, all will be reverted (the colormap will be set to the original one, it will hide the colorbar and the axis, reset the color scaling and the zoom).\n",
    "* *Statistics* Textbox: Here you will see the mean, the standard deviation, the range of values and the size of the image. Mean, standard deviation and range of values will be updated when you zoom to a region. "
   ]
  },
  {
   "cell_type": "markdown",
   "metadata": {
    "kernel": "SoS"
   },
   "source": [
    "## <a class=\"anchor\"></a> 3. Programmatic Customization\n",
    "\n",
    "Most options can be modified both through widgets and _programmatically_ (in code). Run the following cells. In the first one, we will create the object `car_viewer`, which displays the image `car`. By running the next cells, we will produce changes on the `car_viewer` without interacting with it directly. Run them **one by one**, and observe the subsequent changes on `car_viewer`."
   ]
  },
  {
   "cell_type": "code",
   "execution_count": 5,
   "metadata": {
    "kernel": "SoS"
   },
   "outputs": [
    {
     "data": {
      "application/vnd.jupyter.widget-view+json": {
       "model_id": "069de867459f408b855441b03196c222",
       "version_major": 2,
       "version_minor": 0
      },
      "text/plain": [
       "HBox(children=(Output(layout=Layout(width='80%')), Output(), Output(layout=Layout(width='25%'))))"
      ]
     },
     "metadata": {},
     "output_type": "display_data"
    },
    {
     "data": {
      "application/vnd.jupyter.widget-view+json": {
       "model_id": "",
       "version_major": 2,
       "version_minor": 0
      },
      "text/plain": [
       "Button(description='Show Widgets', style=ButtonStyle())"
      ]
     },
     "metadata": {},
     "output_type": "display_data"
    }
   ],
   "source": [
    "car_viewer = viewer(car)"
   ]
  },
  {
   "cell_type": "code",
   "execution_count": 6,
   "metadata": {
    "kernel": "SoS"
   },
   "outputs": [],
   "source": [
    "car_viewer.set_axis(axis = True)"
   ]
  },
  {
   "cell_type": "code",
   "execution_count": 7,
   "metadata": {
    "kernel": "SoS"
   },
   "outputs": [],
   "source": [
    "car_viewer.set_widgets(widgets = True)"
   ]
  },
  {
   "cell_type": "code",
   "execution_count": 8,
   "metadata": {
    "kernel": "SoS"
   },
   "outputs": [],
   "source": [
    "car_viewer.set_colormap(colormap = 'viridis')"
   ]
  },
  {
   "cell_type": "code",
   "execution_count": 9,
   "metadata": {
    "kernel": "SoS"
   },
   "outputs": [],
   "source": [
    "car_viewer.show_histogram(hist = True)"
   ]
  },
  {
   "cell_type": "code",
   "execution_count": 10,
   "metadata": {
    "kernel": "SoS"
   },
   "outputs": [],
   "source": [
    "car_viewer.set_axis(axis = False)"
   ]
  },
  {
   "cell_type": "code",
   "execution_count": 11,
   "metadata": {
    "kernel": "SoS"
   },
   "outputs": [],
   "source": [
    "car_viewer.set_colorbar(colorbar = True)"
   ]
  },
  {
   "cell_type": "markdown",
   "metadata": {
    "kernel": "SoS"
   },
   "source": [
    "As you can see, there are many things that you can do programmatically. If you are familiar with Object-Oriented Programming, you probably know that every single characteristic of the viewer is an attribute and that you can modify the attributes of each individual *viewer* object. Check our extensive wiki to get to know all the attributes and methods of **IPLabViewer**, and if you are confident with using *Ipywidgets*, you will be able to customize every viewer to your needs. "
   ]
  },
  {
   "cell_type": "markdown",
   "metadata": {
    "kernel": "SoS"
   },
   "source": [
    "## <a class=\"anchor\"></a> 4. User Defined Widgets\n",
    "\n",
    "One of the goals of **IPLabViewer** was for it to be as intuitive and simple as possible, but at the same time to offer as much functionality as possible to an interested user. The result is the possibility to add *User Define Widgets*. These serve the purpose of applying a specific operation or transformation to your images, a transformation that might depend one one or more parameters. **IPLabViewer** allows you to create a function in a Jupyter cell and apply it simultaneously to all images within your **IPLabViewer** object with the help of a set of sliders. The function or transformation will take as parameters:\n",
    "\n",
    "* an image (`NumPy array`), and \n",
    "* one or more parameters.\n",
    "\n",
    "Your function will then  apply an operation on the image that depends on the parameters. Without advanced knowledge of matplotlib, you would have to manually run the same process several times, and visualize the results each time. With **IPLabViewer**, you can simply declare the widgets(s) that choose the parameters and an activation function as parameters to the viewer, and it will call your function and update the images for you. \n",
    "\n",
    "Additional to the core function that actually performs the operation, you need to declare an activation function that will take as input **only an image**, and will get the necessary parameters from the widgets. This activation function will subsequently call your transformation.\n",
    "\n",
    "In the next cells, you will see a very basic example. We will apply a pixelwise operation on the image `car`: All the pixels with a value below a treshold (given in $\\%$) will be set to the *maximum* value. We will guide you through all the process.\n",
    "\n",
    "First, we define the thresholding function `threshold_function`. Run the next cell to define it."
   ]
  },
  {
   "cell_type": "code",
   "execution_count": 12,
   "metadata": {
    "kernel": "SoS"
   },
   "outputs": [],
   "source": [
    "# Define your function\n",
    "def threshold_function(image, threshold):    \n",
    "    # We make a copy of the original, where we will apply our threshold.\n",
    "    output = np.copy(image)\n",
    "    # Get actual value, remember that the parameter 'threshold' is a percentage of the maximum\n",
    "    value = threshold*0.01*np.amax(image)\n",
    "    # Apply threshold to output\n",
    "    output[image < value] = np.amax(image)\n",
    "    return output"
   ]
  },
  {
   "cell_type": "markdown",
   "metadata": {
    "kernel": "SoS"
   },
   "source": [
    "Besides defining your function, you need to define the corresponding slider(s), a button to run `your_function` with the sliders' values, and the activation function (from here on called *callback*) that will run `threshold_function` (a.k.a., the slider's _callback_ function).\n",
    "\n",
    "If these sounds a bit complex, the example will make it clear. We will use an integer slider in the range $[0,100]$ ([`widgets.IntSlider`](https://ipywidgets.readthedocs.io/en/latest/examples/Widget%20List.html)), a button that clearly specifies what our function does (`widgets.Button`), and a callback function `callback` that calls `threshold_function` with the slider's value as threshold. We will pass them to the viewer through the parameters.\n",
    "\n",
    "* `new_widgets = [widgets.intSlider, widgets.Button]`\n",
    "* `callbacks = [callback]`\n",
    "\n",
    "Run the next cell, click the button *Extra Widgets*, and try different values. Remember to click on `Apply Threshold`!"
   ]
  },
  {
   "cell_type": "code",
   "execution_count": 16,
   "metadata": {
    "kernel": "SoS"
   },
   "outputs": [
    {
     "data": {
      "application/vnd.jupyter.widget-view+json": {
       "model_id": "2896eccc163f437ca5a628c8d53de7af",
       "version_major": 2,
       "version_minor": 0
      },
      "text/plain": [
       "HBox(children=(Output(layout=Layout(width='80%')), Output(), Output(layout=Layout(width='25%'))))"
      ]
     },
     "metadata": {},
     "output_type": "display_data"
    }
   ],
   "source": [
    "# Declare slider\n",
    "threshold_slider = widgets.IntSlider(value = 0,min = 0, max = 100, step = 1, description = 'Threshold')\n",
    "\n",
    "# Declare button with meaningful description\n",
    "thr_activation_button = widgets.Button(description = 'Apply Threshold')\n",
    "\n",
    "# Declare callback\n",
    "def thr_callback(img):\n",
    "    # Get slider value\n",
    "    threshold = threshold_slider.value\n",
    "    # Call your function\n",
    "    output = threshold_function(img, threshold)\n",
    "    return output\n",
    "\n",
    "# Call viewer, passing the widget and callback separately as lists\n",
    "threshold_viewer = viewer([car],  new_widgets = [threshold_slider, thr_activation_button], callbacks = [thr_callback], widgets = True)"
   ]
  },
  {
   "cell_type": "markdown",
   "metadata": {
    "kernel": "SoS"
   },
   "source": [
    "Let's try a different example to further show the functionality of additional widgets. We will use scikit-image *dilation* method ([see documentation here](https://scikit-image.org/docs/dev/api/skimage.morphology.html#skimage.morphology.dilation)), and apply it at the same time to the images `plate`, and `lena`. \n",
    "\n",
    "To dilate an image using *scikit-image*, we will import the module `morphology`. Inside our method (called `dilate(img, b)`), we will first generate a square structural element of size $b\\times b$, using the method [`numpy.ones()`](https://numpy.org/doc/stable/reference/generated/numpy.ones.html). Then we will called the method on the image `img`\n",
    "\n",
    "Run the next cell to import the module `morphology` and declare the function."
   ]
  },
  {
   "cell_type": "code",
   "execution_count": 9,
   "metadata": {
    "kernel": "SoS"
   },
   "outputs": [],
   "source": [
    "from skimage import morphology\n",
    "\n",
    "def dilate(img, b):\n",
    "    selem = np.ones((b, b))\n",
    "    output = morphology.dilation(img, selem = selem)\n",
    "    return output"
   ]
  },
  {
   "cell_type": "markdown",
   "metadata": {
    "kernel": "SoS"
   },
   "source": [
    "Now, like on our last example, we will declare a slider and a callback. Run the next cell to declare them."
   ]
  },
  {
   "cell_type": "code",
   "execution_count": 10,
   "metadata": {
    "kernel": "SoS"
   },
   "outputs": [],
   "source": [
    "# Declare slider\n",
    "b_slider = widgets.IntSlider(value = 3,min = 1, max = 6, step = 1, description = 'Size:')\n",
    "\n",
    "# Declare button with meaningful description\n",
    "dil_activation_button = widgets.Button(description = 'Dilate')\n",
    "\n",
    "# Declare callback\n",
    "def dil_callback(img):\n",
    "    # Get slider value\n",
    "    b = b_slider.value\n",
    "    # Call your function\n",
    "    output = dilate(img, b)\n",
    "    return output"
   ]
  },
  {
   "cell_type": "markdown",
   "metadata": {
    "kernel": "SoS"
   },
   "source": [
    "Now we will call the viewer. Run the next cell to call the viewer with the images `plate` and `lena` (shown simultaneously), and passing our widgets and callback."
   ]
  },
  {
   "cell_type": "code",
   "execution_count": 11,
   "metadata": {
    "kernel": "SoS"
   },
   "outputs": [
    {
     "data": {
      "application/vnd.jupyter.widget-view+json": {
       "model_id": "a0fc60512acb4d5c9e2ca59912d496b6",
       "version_major": 2,
       "version_minor": 0
      },
      "text/plain": [
       "HBox(children=(Output(layout=Layout(width='80%')), Output(), Output(layout=Layout(width='25%'))))"
      ]
     },
     "metadata": {},
     "output_type": "display_data"
    }
   ],
   "source": [
    "# Call viewer, passing the widget and callback separately as lists\n",
    "plt.close('all')\n",
    "threshold_viewer = viewer([boats, plate],  new_widgets = [b_slider, dil_activation_button], \n",
    "                          callbacks = [dil_callback], widgets = True, subplots = [2, 1])"
   ]
  }
 ],
 "metadata": {
  "kernelspec": {
   "display_name": "SoS",
   "language": "sos",
   "name": "sos"
  },
  "language_info": {
   "codemirror_mode": "sos",
   "file_extension": ".sos",
   "mimetype": "text/x-sos",
   "name": "sos",
   "nbconvert_exporter": "sos_notebook.converter.SoS_Exporter",
   "pygments_lexer": "sos"
  },
  "sos": {
   "kernels": [],
   "panel": {
    "displayed": false,
    "height": 0
   },
   "version": "0.21.9"
  }
 },
 "nbformat": 4,
 "nbformat_minor": 4
}
