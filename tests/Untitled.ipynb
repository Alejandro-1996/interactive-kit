{
 "cells": [
  {
   "cell_type": "code",
   "execution_count": 14,
   "id": "relative-chrome",
   "metadata": {},
   "outputs": [],
   "source": [
    "import sys\n",
    "import cv2 as cv\n",
    "import ipywidgets as widgets\n",
    "import matplotlib.pyplot as plt\n",
    "sys.path.append('../src/interactive_kit')\n",
    "\n",
    "car = cv.imread(\"../images/car_pad.tif\", cv.IMREAD_UNCHANGED).astype('float64')"
   ]
  },
  {
   "cell_type": "code",
   "execution_count": 15,
   "id": "cheap-incidence",
   "metadata": {},
   "outputs": [],
   "source": [
    "import numpy as np\n",
    "from imageviewer import ImageViewer as viewer\n",
    "%matplotlib widget"
   ]
  },
  {
   "cell_type": "code",
   "execution_count": 16,
   "id": "oriented-venture",
   "metadata": {},
   "outputs": [],
   "source": [
    "img = np.random.normal(size = (100, 100))"
   ]
  },
  {
   "cell_type": "code",
   "execution_count": 17,
   "id": "needed-lotus",
   "metadata": {},
   "outputs": [
    {
     "data": {
      "application/vnd.jupyter.widget-view+json": {
       "model_id": "39f0681fe0f041628339b3bbf680605f",
       "version_major": 2,
       "version_minor": 0
      },
      "text/plain": [
       "HBox(children=(Output(layout=Layout(width='80%')), Output(), Output(layout=Layout(width='25%'))))"
      ]
     },
     "metadata": {},
     "output_type": "display_data"
    },
    {
     "data": {
      "text/plain": [
       "<imageviewer.ImageViewer at 0x29cc6108108>"
      ]
     },
     "execution_count": 17,
     "metadata": {},
     "output_type": "execute_result"
    }
   ],
   "source": [
    "viewer(img, hist = True)"
   ]
  },
  {
   "cell_type": "code",
   "execution_count": 18,
   "id": "thousand-civilian",
   "metadata": {},
   "outputs": [
    {
     "data": {
      "application/vnd.jupyter.widget-view+json": {
       "model_id": "67cb0ab3f8294d67a68f4e3aad10089f",
       "version_major": 2,
       "version_minor": 0
      },
      "text/plain": [
       "HBox(children=(Output(layout=Layout(width='80%')), Output(), Output(layout=Layout(width='25%'))))"
      ]
     },
     "metadata": {},
     "output_type": "display_data"
    },
    {
     "data": {
      "application/vnd.jupyter.widget-view+json": {
       "model_id": "a21d9580ce0f4975bcfe7c8a592820c2",
       "version_major": 2,
       "version_minor": 0
      },
      "text/plain": [
       "Button(description='Show Widgets', style=ButtonStyle())"
      ]
     },
     "metadata": {},
     "output_type": "display_data"
    }
   ],
   "source": [
    "T_slider = widgets.IntSlider(value = 200, min = 0, max = 255, step = 1, description = 'T' )\n",
    "button = widgets.Button(description = 'Solarize')\n",
    "\n",
    "# Define solarize\n",
    "def solarize(img, T = None):\n",
    "    if T == None:\n",
    "        T = T_slider.value\n",
    "    output = np.copy(img)\n",
    "    output[output < T] = 255-(255-T)*output[output<T]/T\n",
    "    return output\n",
    "\n",
    "\n",
    "# Make JS version a numpy array\n",
    "solarized_pier = solarize(car, 200)\n",
    "\n",
    "view = viewer([car, solarized_pier], title=['Original', 'Solarized'], new_widgets=[T_slider, button], callbacks=[solarize, np.array], subplots=[1, 2])\n",
    "button.click()\n",
    "view.compare_callback()"
   ]
  },
  {
   "cell_type": "code",
   "execution_count": 19,
   "id": "single-bennett",
   "metadata": {},
   "outputs": [
    {
     "data": {
      "application/vnd.jupyter.widget-view+json": {
       "model_id": "13f5d8bd015a4696a6f9b1a5372f170c",
       "version_major": 2,
       "version_minor": 0
      },
      "text/plain": [
       "HBox(children=(Output(layout=Layout(width='80%')), Output(), Output(layout=Layout(width='25%'))))"
      ]
     },
     "metadata": {},
     "output_type": "display_data"
    }
   ],
   "source": [
    "# Function that computes the 2D sinusoidal plane wave at location (x, y) given the parameters A, T and alpha\n",
    "def cos2D(x, y, A, T, alpha):\n",
    "    s = 0\n",
    "    \n",
    "    ### BEGIN SOLUTIONS\n",
    "    s = A * np.cos(2 * np.pi / T * (x * np.cos(alpha) + y * np.sin(alpha)))\n",
    "    ### END SOLUTIONS\n",
    "    \n",
    "    return s\n",
    "\n",
    "# Creates a 2D sinusoidal plane wave of a given size and with given parameters\n",
    "def create_wave(A, T, alpha, shape=(256, 256), deg=False):\n",
    "    # Convert degrees to radians\n",
    "    alpha = alpha/180 * np.pi if deg else alpha\n",
    "    # Apply sin2D to the whole image\n",
    "    return np.fromfunction(lambda y, x: cos2D(x, y, A=A, T=T, alpha=alpha), shape=shape)\n",
    "\n",
    "# Define sliders and button\n",
    "A_slider = widgets.FloatSlider(value=1, min=0, max=1, step=0.01, description='A')\n",
    "T_slider = widgets.IntSlider(value=32, min=3, max=256, step=1, description='T')\n",
    "alpha_slider = widgets.IntSlider(value=0, min=-90, max=90, step=1, description=r'$\\alpha [deg]$')\n",
    "button = widgets.Button(description='Create 2D sin')\n",
    "\n",
    "# Callback function that applies the vignette effect\n",
    "def sin2D_callback(img):\n",
    "    return create_wave(A_slider.value, T_slider.value, alpha_slider.value, deg=True)\n",
    "\n",
    "plt.close('all')\n",
    "view = viewer(create_wave(A=1, T=32, alpha=0, deg=True), \n",
    "              new_widgets=[A_slider, T_slider, alpha_slider, button], \n",
    "              callbacks=[sin2D_callback], widgets=True, clip_range=[-1, 1])"
   ]
  },
  {
   "cell_type": "code",
   "execution_count": null,
   "id": "sufficient-montgomery",
   "metadata": {},
   "outputs": [],
   "source": []
  }
 ],
 "metadata": {
  "kernelspec": {
   "display_name": "Python 3",
   "language": "python",
   "name": "python3"
  },
  "language_info": {
   "codemirror_mode": {
    "name": "ipython",
    "version": 3
   },
   "file_extension": ".py",
   "mimetype": "text/x-python",
   "name": "python",
   "nbconvert_exporter": "python",
   "pygments_lexer": "ipython3",
   "version": "3.7.9"
  }
 },
 "nbformat": 4,
 "nbformat_minor": 5
}
