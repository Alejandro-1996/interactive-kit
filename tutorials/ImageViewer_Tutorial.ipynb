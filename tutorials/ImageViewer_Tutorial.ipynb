{
 "cells": [
  {
   "cell_type": "markdown",
   "metadata": {
    "kernel": "SoS"
   },
   "source": [
    "<img src=\"https://www.epfl.ch/about/overview/wp-content/uploads/2020/07/logo-epfl-1024x576.png\" style=\"padding-right:10px;width:140px;float:left\"></td>\n",
    "<h2 style=\"white-space: nowrap\">Tutorial on ImageViewer</h2>\n",
    "<hr style=\"clear:both\">\n",
    "<p style=\"font-size:0.85em; margin:2px; text-align:justify\">\n",
    "This Juypter notebook is part of a project  funded by the Center for Digital Education and the School of Engineering of <a href=\"https://www.epfl.ch/\">EPFL</a>. It is owned by the <a href=\"http://bigwww.epfl.ch/\">Biomedical Imaging Group</a>. \n",
    "The distribution or the reproduction of the notebook is strictly prohibited without the written consent of the authors.  &copy; EPFL 2021.\n",
    "<p style=\"font-size:0.85em; margin:0px\"><b>Authors</b>: \n",
    "    <a href=\"mailto:alejandro.nogueronaramburu@epfl.ch\">Alejandro Nogueron Aramburu</a>,\n",
    "    <a href=\"mailto:pol.delaguilapla@epfl.ch\">Pol Del Aguila Pla</a>, \n",
    "    <a href=\"mailto:kay.lachler@epfl.ch\">Kay Lächler</a>, and\n",
    "    <a href=\"mailto:daniel.sage@epfl.ch\">Daniel Sage</a>.\n",
    "</p>"
   ]
  },
  {
   "cell_type": "markdown",
   "metadata": {
    "kernel": "SoS"
   },
   "source": [
    "Welcome to the basic introduction to **IPLabViewer**! In here, you will learn about all the features of the class.\n",
    "\n",
    "## Index\n",
    "1. [Construction & Features](#-1.-Construction-&-Features)\n",
    "2. [Using Widgets](#-2.-Using-Widgets)\n",
    "3. [User Defined Widgets](#-3.-User-Defined-Widgets)\n",
    "4. [Programmatic Customization](#-4.-Programmatic-Customization)\n",
    "5. [Image Comparison](#-5.-Image-Comparison)"
   ]
  },
  {
   "cell_type": "markdown",
   "metadata": {
    "kernel": "SoS"
   },
   "source": [
    "First of all, run the next cell to make sure that yo have `interactive_kit` installed. "
   ]
  },
  {
   "cell_type": "code",
   "execution_count": 1,
   "metadata": {},
   "outputs": [
    {
     "name": "stdout",
     "output_type": "stream",
     "text": [
      "Collecting interactive-kit==0.1rc3\n",
      "  Using cached interactive_kit-0.1rc3-py3-none-any.whl (59 kB)\n",
      "Requirement already satisfied: ipywidgets in c:\\users\\dolly\\documents\\epfl\\proyectos\\ip_labs\\env\\lib\\site-packages (from interactive-kit==0.1rc3) (7.6.3)\n",
      "Requirement already satisfied: numpy in c:\\users\\dolly\\documents\\epfl\\proyectos\\ip_labs\\env\\lib\\site-packages (from interactive-kit==0.1rc3) (1.19.5)\n",
      "Requirement already satisfied: ipympl in c:\\users\\dolly\\documents\\epfl\\proyectos\\ip_labs\\env\\lib\\site-packages (from interactive-kit==0.1rc3) (0.5.6)\n",
      "Requirement already satisfied: matplotlib in c:\\users\\dolly\\documents\\epfl\\proyectos\\ip_labs\\env\\lib\\site-packages (from interactive-kit==0.1rc3) (3.2.1)\n",
      "Requirement already satisfied: jupyter in c:\\users\\dolly\\documents\\epfl\\proyectos\\ip_labs\\env\\lib\\site-packages (from interactive-kit==0.1rc3) (1.0.0)\n",
      "Requirement already satisfied: jupyterlab in c:\\users\\dolly\\documents\\epfl\\proyectos\\ip_labs\\env\\lib\\site-packages (from interactive-kit==0.1rc3) (2.1.3)\n",
      "Requirement already satisfied: ipykernel>=4.7 in c:\\users\\dolly\\documents\\epfl\\proyectos\\ip_labs\\env\\lib\\site-packages (from ipympl->interactive-kit==0.1rc3) (5.5.0)\n",
      "Requirement already satisfied: ipython>=5.0.0 in c:\\users\\dolly\\documents\\epfl\\proyectos\\ip_labs\\env\\lib\\site-packages (from ipykernel>=4.7->ipympl->interactive-kit==0.1rc3) (7.21.0)\n",
      "Requirement already satisfied: traitlets>=4.1.0 in c:\\users\\dolly\\documents\\epfl\\proyectos\\ip_labs\\env\\lib\\site-packages (from ipykernel>=4.7->ipympl->interactive-kit==0.1rc3) (5.0.5)\n",
      "Requirement already satisfied: tornado>=4.2 in c:\\users\\dolly\\documents\\epfl\\proyectos\\ip_labs\\env\\lib\\site-packages (from ipykernel>=4.7->ipympl->interactive-kit==0.1rc3) (6.1)\n",
      "Requirement already satisfied: jupyter-client in c:\\users\\dolly\\documents\\epfl\\proyectos\\ip_labs\\env\\lib\\site-packages (from ipykernel>=4.7->ipympl->interactive-kit==0.1rc3) (6.1.11)\n",
      "Requirement already satisfied: prompt-toolkit!=3.0.0,!=3.0.1,<3.1.0,>=2.0.0 in c:\\users\\dolly\\documents\\epfl\\proyectos\\ip_labs\\env\\lib\\site-packages (from ipython>=5.0.0->ipykernel>=4.7->ipympl->interactive-kit==0.1rc3) (3.0.16)\n",
      "Requirement already satisfied: pickleshare in c:\\users\\dolly\\documents\\epfl\\proyectos\\ip_labs\\env\\lib\\site-packages (from ipython>=5.0.0->ipykernel>=4.7->ipympl->interactive-kit==0.1rc3) (0.7.5)\n",
      "Requirement already satisfied: colorama in c:\\users\\dolly\\documents\\epfl\\proyectos\\ip_labs\\env\\lib\\site-packages (from ipython>=5.0.0->ipykernel>=4.7->ipympl->interactive-kit==0.1rc3) (0.4.4)\n",
      "Requirement already satisfied: setuptools>=18.5 in c:\\users\\dolly\\documents\\epfl\\proyectos\\ip_labs\\env\\lib\\site-packages (from ipython>=5.0.0->ipykernel>=4.7->ipympl->interactive-kit==0.1rc3) (54.0.0)\n",
      "Requirement already satisfied: decorator in c:\\users\\dolly\\documents\\epfl\\proyectos\\ip_labs\\env\\lib\\site-packages (from ipython>=5.0.0->ipykernel>=4.7->ipympl->interactive-kit==0.1rc3) (4.4.2)\n",
      "Requirement already satisfied: pygments in c:\\users\\dolly\\documents\\epfl\\proyectos\\ip_labs\\env\\lib\\site-packages (from ipython>=5.0.0->ipykernel>=4.7->ipympl->interactive-kit==0.1rc3) (2.8.0)\n",
      "Requirement already satisfied: backcall in c:\\users\\dolly\\documents\\epfl\\proyectos\\ip_labs\\env\\lib\\site-packages (from ipython>=5.0.0->ipykernel>=4.7->ipympl->interactive-kit==0.1rc3) (0.2.0)\n",
      "Requirement already satisfied: jedi>=0.16 in c:\\users\\dolly\\documents\\epfl\\proyectos\\ip_labs\\env\\lib\\site-packages (from ipython>=5.0.0->ipykernel>=4.7->ipympl->interactive-kit==0.1rc3) (0.18.0)\n",
      "Requirement already satisfied: jupyterlab-widgets>=1.0.0 in c:\\users\\dolly\\documents\\epfl\\proyectos\\ip_labs\\env\\lib\\site-packages (from ipywidgets->interactive-kit==0.1rc3) (1.0.0)\n",
      "Requirement already satisfied: widgetsnbextension~=3.5.0 in c:\\users\\dolly\\documents\\epfl\\proyectos\\ip_labs\\env\\lib\\site-packages (from ipywidgets->interactive-kit==0.1rc3) (3.5.1)\n",
      "Requirement already satisfied: nbformat>=4.2.0 in c:\\users\\dolly\\documents\\epfl\\proyectos\\ip_labs\\env\\lib\\site-packages (from ipywidgets->interactive-kit==0.1rc3) (5.1.2)\n",
      "Requirement already satisfied: parso<0.9.0,>=0.8.0 in c:\\users\\dolly\\documents\\epfl\\proyectos\\ip_labs\\env\\lib\\site-packages (from jedi>=0.16->ipython>=5.0.0->ipykernel>=4.7->ipympl->interactive-kit==0.1rc3) (0.8.1)\n",
      "Requirement already satisfied: cycler>=0.10 in c:\\users\\dolly\\documents\\epfl\\proyectos\\ip_labs\\env\\lib\\site-packages (from matplotlib->interactive-kit==0.1rc3) (0.10.0)\n",
      "Requirement already satisfied: kiwisolver>=1.0.1 in c:\\users\\dolly\\documents\\epfl\\proyectos\\ip_labs\\env\\lib\\site-packages (from matplotlib->interactive-kit==0.1rc3) (1.2.0)\n",
      "Requirement already satisfied: pyparsing!=2.0.4,!=2.1.2,!=2.1.6,>=2.0.1 in c:\\users\\dolly\\documents\\epfl\\proyectos\\ip_labs\\env\\lib\\site-packages (from matplotlib->interactive-kit==0.1rc3) (2.4.7)\n",
      "Requirement already satisfied: python-dateutil>=2.1 in c:\\users\\dolly\\documents\\epfl\\proyectos\\ip_labs\\env\\lib\\site-packages (from matplotlib->interactive-kit==0.1rc3) (2.8.1)\n",
      "Requirement already satisfied: six in c:\\users\\dolly\\documents\\epfl\\proyectos\\ip_labs\\env\\lib\\site-packages (from cycler>=0.10->matplotlib->interactive-kit==0.1rc3) (1.15.0)\n",
      "Requirement already satisfied: jupyter-core in c:\\users\\dolly\\documents\\epfl\\proyectos\\ip_labs\\env\\lib\\site-packages (from nbformat>=4.2.0->ipywidgets->interactive-kit==0.1rc3) (4.7.1)\n",
      "Requirement already satisfied: ipython-genutils in c:\\users\\dolly\\documents\\epfl\\proyectos\\ip_labs\\env\\lib\\site-packages (from nbformat>=4.2.0->ipywidgets->interactive-kit==0.1rc3) (0.2.0)\n",
      "Requirement already satisfied: jsonschema!=2.5.0,>=2.4 in c:\\users\\dolly\\documents\\epfl\\proyectos\\ip_labs\\env\\lib\\site-packages (from nbformat>=4.2.0->ipywidgets->interactive-kit==0.1rc3) (3.2.0)\n",
      "Requirement already satisfied: importlib-metadata in c:\\users\\dolly\\documents\\epfl\\proyectos\\ip_labs\\env\\lib\\site-packages (from jsonschema!=2.5.0,>=2.4->nbformat>=4.2.0->ipywidgets->interactive-kit==0.1rc3) (3.7.0)\n",
      "Requirement already satisfied: pyrsistent>=0.14.0 in c:\\users\\dolly\\documents\\epfl\\proyectos\\ip_labs\\env\\lib\\site-packages (from jsonschema!=2.5.0,>=2.4->nbformat>=4.2.0->ipywidgets->interactive-kit==0.1rc3) (0.17.3)\n",
      "Requirement already satisfied: attrs>=17.4.0 in c:\\users\\dolly\\documents\\epfl\\proyectos\\ip_labs\\env\\lib\\site-packages (from jsonschema!=2.5.0,>=2.4->nbformat>=4.2.0->ipywidgets->interactive-kit==0.1rc3) (20.3.0)\n",
      "Requirement already satisfied: wcwidth in c:\\users\\dolly\\documents\\epfl\\proyectos\\ip_labs\\env\\lib\\site-packages (from prompt-toolkit!=3.0.0,!=3.0.1,<3.1.0,>=2.0.0->ipython>=5.0.0->ipykernel>=4.7->ipympl->interactive-kit==0.1rc3) (0.2.5)\n",
      "Requirement already satisfied: notebook>=4.4.1 in c:\\users\\dolly\\documents\\epfl\\proyectos\\ip_labs\\env\\lib\\site-packages (from widgetsnbextension~=3.5.0->ipywidgets->interactive-kit==0.1rc3) (6.2.0)\n",
      "Requirement already satisfied: terminado>=0.8.3 in c:\\users\\dolly\\documents\\epfl\\proyectos\\ip_labs\\env\\lib\\site-packages (from notebook>=4.4.1->widgetsnbextension~=3.5.0->ipywidgets->interactive-kit==0.1rc3) (0.9.2)\n",
      "Requirement already satisfied: nbconvert in c:\\users\\dolly\\documents\\epfl\\proyectos\\ip_labs\\env\\lib\\site-packages (from notebook>=4.4.1->widgetsnbextension~=3.5.0->ipywidgets->interactive-kit==0.1rc3) (5.6.1)\n",
      "Requirement already satisfied: Send2Trash>=1.5.0 in c:\\users\\dolly\\documents\\epfl\\proyectos\\ip_labs\\env\\lib\\site-packages (from notebook>=4.4.1->widgetsnbextension~=3.5.0->ipywidgets->interactive-kit==0.1rc3) (1.5.0)\n",
      "Requirement already satisfied: pyzmq>=17 in c:\\users\\dolly\\documents\\epfl\\proyectos\\ip_labs\\env\\lib\\site-packages (from notebook>=4.4.1->widgetsnbextension~=3.5.0->ipywidgets->interactive-kit==0.1rc3) (22.0.3)\n",
      "Requirement already satisfied: jinja2 in c:\\users\\dolly\\documents\\epfl\\proyectos\\ip_labs\\env\\lib\\site-packages (from notebook>=4.4.1->widgetsnbextension~=3.5.0->ipywidgets->interactive-kit==0.1rc3) (2.11.3)\n",
      "Requirement already satisfied: prometheus-client in c:\\users\\dolly\\documents\\epfl\\proyectos\\ip_labs\\env\\lib\\site-packages (from notebook>=4.4.1->widgetsnbextension~=3.5.0->ipywidgets->interactive-kit==0.1rc3) (0.9.0)\n",
      "Requirement already satisfied: argon2-cffi in c:\\users\\dolly\\documents\\epfl\\proyectos\\ip_labs\\env\\lib\\site-packages (from notebook>=4.4.1->widgetsnbextension~=3.5.0->ipywidgets->interactive-kit==0.1rc3) (20.1.0)\n",
      "Requirement already satisfied: pywin32>=1.0 in c:\\users\\dolly\\documents\\epfl\\proyectos\\ip_labs\\env\\lib\\site-packages (from jupyter-core->nbformat>=4.2.0->ipywidgets->interactive-kit==0.1rc3) (300)\n",
      "Requirement already satisfied: pywinpty>=0.5 in c:\\users\\dolly\\documents\\epfl\\proyectos\\ip_labs\\env\\lib\\site-packages (from terminado>=0.8.3->notebook>=4.4.1->widgetsnbextension~=3.5.0->ipywidgets->interactive-kit==0.1rc3) (0.5.7)\n",
      "Requirement already satisfied: cffi>=1.0.0 in c:\\users\\dolly\\documents\\epfl\\proyectos\\ip_labs\\env\\lib\\site-packages (from argon2-cffi->notebook>=4.4.1->widgetsnbextension~=3.5.0->ipywidgets->interactive-kit==0.1rc3) (1.14.5)\n",
      "Requirement already satisfied: pycparser in c:\\users\\dolly\\documents\\epfl\\proyectos\\ip_labs\\env\\lib\\site-packages (from cffi>=1.0.0->argon2-cffi->notebook>=4.4.1->widgetsnbextension~=3.5.0->ipywidgets->interactive-kit==0.1rc3) (2.20)\n",
      "Requirement already satisfied: typing-extensions>=3.6.4 in c:\\users\\dolly\\documents\\epfl\\proyectos\\ip_labs\\env\\lib\\site-packages (from importlib-metadata->jsonschema!=2.5.0,>=2.4->nbformat>=4.2.0->ipywidgets->interactive-kit==0.1rc3) (3.7.4.3)\n",
      "Requirement already satisfied: zipp>=0.5 in c:\\users\\dolly\\documents\\epfl\\proyectos\\ip_labs\\env\\lib\\site-packages (from importlib-metadata->jsonschema!=2.5.0,>=2.4->nbformat>=4.2.0->ipywidgets->interactive-kit==0.1rc3) (3.4.0)\n",
      "Requirement already satisfied: MarkupSafe>=0.23 in c:\\users\\dolly\\documents\\epfl\\proyectos\\ip_labs\\env\\lib\\site-packages (from jinja2->notebook>=4.4.1->widgetsnbextension~=3.5.0->ipywidgets->interactive-kit==0.1rc3) (1.1.1)\n",
      "Requirement already satisfied: qtconsole in c:\\users\\dolly\\documents\\epfl\\proyectos\\ip_labs\\env\\lib\\site-packages (from jupyter->interactive-kit==0.1rc3) (5.0.2)\n",
      "Requirement already satisfied: jupyter-console in c:\\users\\dolly\\documents\\epfl\\proyectos\\ip_labs\\env\\lib\\site-packages (from jupyter->interactive-kit==0.1rc3) (6.2.0)\n",
      "Requirement already satisfied: jupyterlab-server<2.0,>=1.1.0 in c:\\users\\dolly\\documents\\epfl\\proyectos\\ip_labs\\env\\lib\\site-packages (from jupyterlab->interactive-kit==0.1rc3) (1.1.5)\n",
      "Requirement already satisfied: json5 in c:\\users\\dolly\\documents\\epfl\\proyectos\\ip_labs\\env\\lib\\site-packages (from jupyterlab-server<2.0,>=1.1.0->jupyterlab->interactive-kit==0.1rc3) (0.9.5)\n",
      "Requirement already satisfied: requests in c:\\users\\dolly\\documents\\epfl\\proyectos\\ip_labs\\env\\lib\\site-packages (from jupyterlab-server<2.0,>=1.1.0->jupyterlab->interactive-kit==0.1rc3) (2.25.1)\n",
      "Requirement already satisfied: mistune<2,>=0.8.1 in c:\\users\\dolly\\documents\\epfl\\proyectos\\ip_labs\\env\\lib\\site-packages (from nbconvert->notebook>=4.4.1->widgetsnbextension~=3.5.0->ipywidgets->interactive-kit==0.1rc3) (0.8.4)\n",
      "Requirement already satisfied: pandocfilters>=1.4.1 in c:\\users\\dolly\\documents\\epfl\\proyectos\\ip_labs\\env\\lib\\site-packages (from nbconvert->notebook>=4.4.1->widgetsnbextension~=3.5.0->ipywidgets->interactive-kit==0.1rc3) (1.4.3)\n",
      "Requirement already satisfied: bleach in c:\\users\\dolly\\documents\\epfl\\proyectos\\ip_labs\\env\\lib\\site-packages (from nbconvert->notebook>=4.4.1->widgetsnbextension~=3.5.0->ipywidgets->interactive-kit==0.1rc3) (3.3.0)\n",
      "Requirement already satisfied: testpath in c:\\users\\dolly\\documents\\epfl\\proyectos\\ip_labs\\env\\lib\\site-packages (from nbconvert->notebook>=4.4.1->widgetsnbextension~=3.5.0->ipywidgets->interactive-kit==0.1rc3) (0.4.4)\n",
      "Requirement already satisfied: entrypoints>=0.2.2 in c:\\users\\dolly\\documents\\epfl\\proyectos\\ip_labs\\env\\lib\\site-packages (from nbconvert->notebook>=4.4.1->widgetsnbextension~=3.5.0->ipywidgets->interactive-kit==0.1rc3) (0.3)\n",
      "Requirement already satisfied: defusedxml in c:\\users\\dolly\\documents\\epfl\\proyectos\\ip_labs\\env\\lib\\site-packages (from nbconvert->notebook>=4.4.1->widgetsnbextension~=3.5.0->ipywidgets->interactive-kit==0.1rc3) (0.6.0)\n",
      "Requirement already satisfied: webencodings in c:\\users\\dolly\\documents\\epfl\\proyectos\\ip_labs\\env\\lib\\site-packages (from bleach->nbconvert->notebook>=4.4.1->widgetsnbextension~=3.5.0->ipywidgets->interactive-kit==0.1rc3) (0.5.1)\n",
      "Requirement already satisfied: packaging in c:\\users\\dolly\\documents\\epfl\\proyectos\\ip_labs\\env\\lib\\site-packages (from bleach->nbconvert->notebook>=4.4.1->widgetsnbextension~=3.5.0->ipywidgets->interactive-kit==0.1rc3) (20.9)\n",
      "Requirement already satisfied: qtpy in c:\\users\\dolly\\documents\\epfl\\proyectos\\ip_labs\\env\\lib\\site-packages (from qtconsole->jupyter->interactive-kit==0.1rc3) (1.9.0)\n",
      "Requirement already satisfied: certifi>=2017.4.17 in c:\\users\\dolly\\documents\\epfl\\proyectos\\ip_labs\\env\\lib\\site-packages (from requests->jupyterlab-server<2.0,>=1.1.0->jupyterlab->interactive-kit==0.1rc3) (2020.12.5)\n",
      "Requirement already satisfied: chardet<5,>=3.0.2 in c:\\users\\dolly\\documents\\epfl\\proyectos\\ip_labs\\env\\lib\\site-packages (from requests->jupyterlab-server<2.0,>=1.1.0->jupyterlab->interactive-kit==0.1rc3) (4.0.0)\n",
      "Requirement already satisfied: idna<3,>=2.5 in c:\\users\\dolly\\documents\\epfl\\proyectos\\ip_labs\\env\\lib\\site-packages (from requests->jupyterlab-server<2.0,>=1.1.0->jupyterlab->interactive-kit==0.1rc3) (2.10)\n",
      "Requirement already satisfied: urllib3<1.27,>=1.21.1 in c:\\users\\dolly\\documents\\epfl\\proyectos\\ip_labs\\env\\lib\\site-packages (from requests->jupyterlab-server<2.0,>=1.1.0->jupyterlab->interactive-kit==0.1rc3) (1.26.3)\n",
      "Installing collected packages: interactive-kit\n",
      "Successfully installed interactive-kit-0.1rc3\n"
     ]
    },
    {
     "name": "stderr",
     "output_type": "stream",
     "text": [
      "WARNING: You are using pip version 21.1.2; however, version 21.2.1 is available.\n",
      "You should consider upgrading via the 'c:\\users\\dolly\\documents\\epfl\\proyectos\\ip_labs\\env\\scripts\\python.exe -m pip install --upgrade pip' command.\n"
     ]
    }
   ],
   "source": [
    "!pip install interactive-kit==0.1rc3"
   ]
  },
  {
   "cell_type": "markdown",
   "metadata": {
    "kernel": "SoS"
   },
   "source": [
    "In the following cell, we import the required libraries. As best practice, we will be  importing **ImageViewer**  as `viewer`. Furthermore, we will import the following external libraries for the exercises:\n",
    "* [Ipywidgets](https://ipywidgets.readthedocs.io/en/latest/) to allow interactive visualization, \n",
    "* [Matplotlib](https://matplotlib.org/) to load images, and\n",
    "* [NumPy](https://numpy.org/) to perform any operations \n",
    "\n",
    "The magic command `%matplotlib widget` configures Matplotlib to use the Ipywidgets library to render dynamic plots. It allows us, for example, to zoom into images (button with a small square), and allows for proper functioning of the widgets. The IPLabViewer class **should not** be used outside the dynamic environment of Jupyter-Matplotlib. \n",
    "\n",
    "Run the cell below to import all necessary libraries."
   ]
  },
  {
   "cell_type": "code",
   "execution_count": 6,
   "metadata": {
    "kernel": "SoS"
   },
   "outputs": [],
   "source": [
    "# Configure plotting as dynamic\n",
    "%matplotlib widget\n",
    "# Import required packages for this exercise\n",
    "import matplotlib.pyplot as plt\n",
    "import ipywidgets as widgets\n",
    "import numpy as np\n",
    "import skimage.filters\n",
    "\n",
    "from interactive_kit import imviewer as viewer"
   ]
  },
  {
   "cell_type": "markdown",
   "metadata": {
    "kernel": "SoS"
   },
   "source": [
    "Great! Your environment is all set. Before going on with the tutorial, make sure to go through our extensive [wiki](https://github.com/Biomedical-Imaging-Group/IPLabImageViewer/wiki/Python-IPLabViewer()-Class). Also, you can call `help(viewer)` or `viewer?` in a cell to check the documentation.  Just to make sure, run the following cell that will print the documentation (using `help(viewer)`) and load some images to use with the viewer. "
   ]
  },
  {
   "cell_type": "code",
   "execution_count": 7,
   "metadata": {
    "kernel": "SoS"
   },
   "outputs": [
    {
     "name": "stdout",
     "output_type": "stream",
     "text": [
      "Help on class ImageViewer in module interactive_kit.imageviewer:\n",
      "\n",
      "class ImageViewer(builtins.object)\n",
      " |  ImageViewer(image_list, **kwargs)\n",
      " |  \n",
      " |  Class for interactive visualization of image processing on Jupyter Notebooks.\n",
      " |  \n",
      " |  The `ImageViewer` class allows you to quickly visualize an image and interact with its properties. You can easily\n",
      " |  change the brightness and contrast of your image, display its histogram, plot the image with different dynamic\n",
      " |  ranges and in different colormaps and quickly access the pixel-value statistics of any zoomed-in region. Moreover,\n",
      " |  the `ImageViewer` is flexible enough to incorporate different transforms and filters in the form of lists of\n",
      " |  additional functions and callbacks, a functionality that allows to try different parameters/transforms without\n",
      " |  the need for rerunning a cell. See the tutorial or the wiki for a thorough explanation.\n",
      " |  \n",
      " |  Construction:\n",
      " |  ```\n",
      " |  import interactive_kit.imviewer as viewer\n",
      " |  viewer([image1, image2, ...], **kwargs)\n",
      " |  ```\n",
      " |  \n",
      " |  Where the images are NumPy arrays. See  `__init__` for details\n",
      " |  \n",
      " |  Parameters\n",
      " |  ----------\n",
      " |  image : NumPy array or iterable of NumPy arrays\n",
      " |      The image or images to visualize.\n",
      " |      \n",
      " |  **kwargs : dict, optional\n",
      " |      Parameters for the initialization of the ImageViewer object.\n",
      " |      See `__init__` documentation for details.\n",
      " |  \n",
      " |  Attributes\n",
      " |  ----------\n",
      " |  image_list : list \n",
      " |      Contains all the images (as `np.ndarray` objects) to be displayed by the viewer inside a Python list, in the\n",
      " |      order in which they were originally given.\n",
      " |      \n",
      " |  original : list\n",
      " |      Stores all the image data as it was during instantiation.\n",
      " |      \n",
      " |  bins : list \n",
      " |      Contains the bins of the images, as generated by `numpy.hist` and in the same order as `image_list`. Currently,\n",
      " |      always $70$ bins. It is updated whenever a transform is applied\n",
      " |      \n",
      " |  hist : list\n",
      " |      Contains the histogram values of each image, for the current image displayed (updated when a transform is\n",
      " |      applied).\n",
      " |      \n",
      " |  max : list\n",
      " |      Contains the maximum values of each image. Updated during transforms.\n",
      " |      \n",
      " |  min : list\n",
      " |      Contains the minimum values of each image. Updated during transforms.\n",
      " |      \n",
      " |  xlim : list\n",
      " |      Contains the current limits of the $x$-axis. Updated when zooming or\n",
      " |      during transforms. \n",
      " |  \n",
      " |  ylim : list\n",
      " |      Contains the current limits of the $y$-axis. Updated when zooming or\n",
      " |      during transforms. \n",
      " |  \n",
      " |  number_images : int\n",
      " |      The number of images that `ImageViewer` was instantiated with\n",
      " |      \n",
      " |  current_image : int or NoneType object\n",
      " |      If the mode is only one image on display keeps track of which image is\n",
      " |      currently on display. If all images on display, it is set to `None`\n",
      " |  \n",
      " |  axs : list \n",
      " |      Contains the AxesSubplots (see Matplotlib documentation) of each image.\n",
      " |      If the mode of the `ImageViewer` is to visualize only one image at a\n",
      " |      time, there is only one AxesSubplot that gets updated when changing \n",
      " |      image. Same applies for `axs_hist`, `axs_im`, and `im`.\n",
      " |  \n",
      " |  axs_hist : list \n",
      " |      Contains the AxesSubplots of each histogram\n",
      " |      \n",
      " |  im : list \n",
      " |      Contains the AxesImage (see Matplotlib documentation) of each image\n",
      " |  \n",
      " |  axs_hist : list \n",
      " |      Contains the AxesSubplots of each histogram\n",
      " |      \n",
      " |  axs_hist : list \n",
      " |      Contains the AxesSubplots of each histogram\n",
      " |  \n",
      " |  fig : Matplotlib Figure\n",
      " |      Main figure to display images\n",
      " |      \n",
      " |  fig_hist : Matplotlib Figure\n",
      " |      Main figure to display histograms\n",
      " |  \n",
      " |  init_view_rightb : ipywidgets.VBox\n",
      " |      Contains the initial widget menu, with the rest of the widgets for \n",
      " |      color scaling, histogram control, access to other menus\n",
      " |      \n",
      " |  options_view_rightb : ipywidgets.VBox\n",
      " |      Options menu, with widgets to show/hide the axis of the images and \n",
      " |      a colorbar, and a menu to change the colorbar.\n",
      " |  \n",
      " |  x_widget_view : ipywidgets.VBox\n",
      " |      Only instantiated if extra widgets are required. Contains all the \n",
      " |      widgets defined by the user.\n",
      " |  \n",
      " |  view : str\n",
      " |      Keeps track of the view that is currently in display.\n",
      " |  \n",
      " |  button_back : ipywidgets.Button\n",
      " |      Button that appears on `'options'` and `'extra_widgets'` menu to go\n",
      " |      back to initial menu.\n",
      " |  \n",
      " |  button_hist : ipywidgets.Button\n",
      " |      Button to show or hide the histograms of images\n",
      " |  \n",
      " |  button_next : ipywidgets.Button\n",
      " |      Button to show or hide the histograms of images\n",
      " |  \n",
      " |  button_options : ipywidgets.Button\n",
      " |      Button on the initial menu to switcch to options menu\n",
      " |  \n",
      " |  button_prev : ipywidgets.Button\n",
      " |      Button to browse images. It only appears if there are several images\n",
      " |      in the `ImageViewer` and the mode is to display one image at a time\n",
      " |  \n",
      " |  button_next : ipywidgets.Button\n",
      " |      Button to browse images. Conditions of `button_prev` apply\n",
      " |  \n",
      " |  button_reset : ipywidgets.Button\n",
      " |      Button to reset all the parameters to the original.\n",
      " |  \n",
      " |  button_show_axis : ipywidgets.Button\n",
      " |      Button to show or hide the axis on the images\n",
      " |  \n",
      " |  button_show_widgets : ipywidgets.Button\n",
      " |      Appears only when `ImageViewer` is instantiated without widgets, and \n",
      " |      is used to display the widgets initial menu\n",
      " |      \n",
      " |  dropdown_cmap : ipywidgets.DropdownMenu\n",
      " |      Menu to choose the colormap of the images\n",
      " |  \n",
      " |  final_view_hist : ipywidgets.HBox\n",
      " |      Box to hold the final view with histogram\n",
      " |      \n",
      " |  final_view_no_hist : ipywidgets.HBox \n",
      " |      Box to hold the final view without histogram\n",
      " |  \n",
      " |  out_fig : ipywidgets.Output\n",
      " |      Output widget that holds `fig`\n",
      " |      \n",
      " |  out_hist : ipywidgets.Output\n",
      " |      Output widget that holds `fig_hist`\n",
      " |      \n",
      " |  slider_clim : ipywidgets.IntSlider\n",
      " |      Defines the min and max values (in percentages) for color scaling\n",
      " |      \n",
      " |  slider_clim : ipywidgets.TextArea\n",
      " |      Displays the statistics of the images\n",
      " |  \n",
      " |  Methods defined here:\n",
      " |  \n",
      " |  __init__(self, image_list, **kwargs)\n",
      " |      Initialization funcion of ImageViewer.\n",
      " |      \n",
      " |      The only required argument is an image (NumPy array) or a list of images. If the images are not NumPy arrays,\n",
      " |      a ValueException will be raised. All the rest of the parameters are optional.\n",
      " |      \n",
      " |      Parameters\n",
      " |      ----------\n",
      " |      image : NumPy array or iterable of NumPy arrays\n",
      " |          The image or images to visualize.\n",
      " |          \n",
      " |      axis : boolean, optional\n",
      " |          If `True`, displays the axis (units in pixels) of the image. Defaults to `False`. It can be set after\n",
      " |          instantiation.\n",
      " |          \n",
      " |      callbacks :  list\n",
      " |          The list should have either $1$ element or the same number of elements as there are images. In the former\n",
      " |          case, the same callback will be applied to all images. In the latter, the n-th callback of the list will be\n",
      " |          applied to the n-th image. All callbacks should have as sole input and output parameters an image. All other\n",
      " |          required parameters should taken from widgets values (see parameter `new_widgets`).\n",
      " |          \n",
      " |      clickable : boolean\n",
      " |          Activates clickability functionalities for selecting points. \n",
      " |          It is only useful when this points are required for a transform\n",
      " |          provided in the form of a callback. \n",
      " |          \n",
      " |      clip_range : iterable of two floats\n",
      " |          Indicates the min and max values that will be enforced on \n",
      " |          all images. Images with values outside this range will be \n",
      " |          clipped to the range, as in `numpy.clip`.\n",
      " |          \n",
      " |      compare : boolean\n",
      " |          Whether to activate the image comparison functionality. \n",
      " |          Defaults to `False`. It only has an effect when `ImageViewer`\n",
      " |          is initialized with two images. Regions of the two images \n",
      " |          where there are differences will be shown in red overlayed to the grayscale information.\n",
      " |      \n",
      " |      cmap : string {'gray', 'viridis', 'inferno', 'ocean', 'hsv',\n",
      " |                     'nipy_spectral', 'copper', 'spring', 'magma'}\n",
      " |          A string that determines the colormap of for the images. \n",
      " |          If the given one is not recognized by ImageViewer but it is \n",
      " |          by Matplotlib, it will be set (but after changing it it)\n",
      " |          cannot be accessed again. If its not recognized by \n",
      " |          Matplotlib, a `ValueError` will be raised.\n",
      " |      \n",
      " |      colorbar : boolean \n",
      " |          Whether to initialize with a colorbar or not\n",
      " |      \n",
      " |      hist : boolean \n",
      " |          Whether to show the histogram from the beginning or not\n",
      " |          \n",
      " |      joint_zoom : boolean\n",
      " |          Whether to activate or not the joint zoom functionality from \n",
      " |          the initialization. When it is activated, zooming to an area \n",
      " |          in an image will make the rest of the images zoom to the same\n",
      " |          area. It only has an effect when there is an image grid. It can\n",
      " |          be (de)activated also through the widgets menu.\n",
      " |          \n",
      " |      line : boolean\n",
      " |          If clickable was set to `True`, draws a line between selected\n",
      " |          points. Otherwise it has no effect.\n",
      " |          \n",
      " |      new_widgets : list of ipywidgets objects\n",
      " |          It is meant to be used jointly with the parameter `callbacks`.\n",
      " |          If a callback depends on tunable parameters, this should be set\n",
      " |          by ipywidgets sliders/dropdown menus, which need to be passed \n",
      " |          to `ImageViewer` through this parameter. The last element in the \n",
      " |          list should always be an `ipywidgets.Button`, that will serve to \n",
      " |          apply any transform.\n",
      " |          \n",
      " |      normalize : boolean\n",
      " |          Whether to scale the values of all images to the range $[0, 1]$\n",
      " |          \n",
      " |      pixel_grid : boolean\n",
      " |      \n",
      " |      scale_range : iterable of 2 floats\n",
      " |          If given, all images will be rescaled to the specified range.\n",
      " |          \n",
      " |      subplots :  iterable of 2 ints\n",
      " |          Specify a grid for the images (see Matplitlib gridspec). If there\n",
      " |          are more images than spaces in the grid, the rest of the images \n",
      " |          will not be shown\n",
      " |      \n",
      " |      title : list of strings\n",
      " |          Specifies the title of every image. If not given, the name of the \n",
      " |          variable will be used as title.\n",
      " |      \n",
      " |      widgets : boolean\n",
      " |          Display the widget menu. If not specified (or set to False),\n",
      " |          only the button *Show Wisgets* will be displayed.\n",
      " |  \n",
      " |  axis_button_click(self, change)\n",
      " |      Callback of button *Show/Hide Axis*, to show/hide the image axis.\n",
      " |  \n",
      " |  back_button_callback(self, change)\n",
      " |      Callback of button *Back*, to switch to main menu\n",
      " |  \n",
      " |  change_image(self, change=0)\n",
      " |      Called by the buttons *Prev*/*Next* to browse through the images.\n",
      " |      0123456789112345678921234567893123456789412345678951234567896123456789712345 67898123456789\n",
      " |              This image takes care of changing the images, and updating the \n",
      " |              information associated with the image (statistics, histogram, \n",
      " |              colorbar, axis). If the previously displayed image had the same \n",
      " |              dimensions as the new one, and it was zoomed to a region, it keeps \n",
      " |              the zoomed area. Otherwise, it also resets the zoom\n",
      " |  \n",
      " |  clim_callback(self, change)\n",
      " |      Callback of `slider_clim`. \n",
      " |      \n",
      " |      Adjusts the the color limits of the displayed images, and updates \n",
      " |      the histogram line. See matplitlib's AxesImage method `set_clim`\n",
      " |      for more details.\n",
      " |      \n",
      " |      Parameters\n",
      " |      ----------\n",
      " |      change : dict\n",
      " |          Parameter sent when an ipywidget is linked to a callback. Contains\n",
      " |          information on the widget and on the new and old values. See \n",
      " |          iPyWidgets documentation for details.\n",
      " |  \n",
      " |  cmap_callback(self, change)\n",
      " |      Callback of cmap menu, to change the colormap to the selected one.\n",
      " |  \n",
      " |  colorbar_button_click(self, change)\n",
      " |      Callback of button *Set/Hide Colorbar*, to show/hide the colorbar.\n",
      " |  \n",
      " |  compare_button(self, change)\n",
      " |      Callback of button *Compare*. \n",
      " |      \n",
      " |      It is active when exactly 2 images are given. When clicked, the \n",
      " |      difference between the two images will be calculated, and drawn in\n",
      " |      red on top of the images. Works for both single and multiple display modes.\n",
      " |  \n",
      " |  draw_line(self)\n",
      " |      Auxiliary function called by `onclick` to draw lines between points\n",
      " |      \n",
      " |      If ImageViewerDraws is instantiated with the parameters `lines` and\n",
      " |      `clickable` set to `True`, then this function draws lines between \n",
      " |      points that have been selected by the user.\n",
      " |  \n",
      " |  draw_point(self, index)\n",
      " |      Auxiliary function to draw points when a user clicks, if clickable mode.\n",
      " |  \n",
      " |  get_histogram(self)\n",
      " |  \n",
      " |  get_statistics(self, images=None)\n",
      " |      Function to get extensive statistics about the displayed images\n",
      " |      0123456789112345678921234567893123456789412345678951234567896123456789712345 67898123456789\n",
      " |              Function that iterates through all the images in display, and gets \n",
      " |              information ony about the current region in display. It firsts \n",
      " |              extracts the region, and calculates the mean and standard deviation,\n",
      " |              minimum and maximum values, shape, and display limits. It returns \n",
      " |              this information in list form, plus a descriptive string used to \n",
      " |              display the information in the viewer.\n",
      " |  \n",
      " |  hist_button_click(self, change)\n",
      " |      Callback of button *Show Hist*, to show or hide the histogram\n",
      " |  \n",
      " |  joint_zoom_callback(self, change=None)\n",
      " |      Callback of button *Enable Joint Zoom*. \n",
      " |      \n",
      " |      When the zoom joint is enabled (the description of the button will)\n",
      " |      tell, zooming to an area on an image will zoom into the same area in\n",
      " |      all images. Useful for image comparison features.\n",
      " |  \n",
      " |  link_axs(self)\n",
      " |      Function called when there is any change in the axis to store\n",
      " |      \n",
      " |      This function is called when an image changes, when there is a zoom \n",
      " |      event, or any event to changes the axis. If the functionality *Joint\n",
      " |      Zoom* is activated, it updates the axis of the rest of the images \n",
      " |      also. Moreover, it updates the statistics, to get the information \n",
      " |      from the image currently in display.\n",
      " |  \n",
      " |  next_button_callback(self, change)\n",
      " |      Callback of *Next* button, to browse to the previous image. \n",
      " |      \n",
      " |      It is only active when there are several images, and the display mode\n",
      " |      is single image. When there is no further image, it is disabled.\n",
      " |  \n",
      " |  onclick(self, event)\n",
      " |      Function to process clicking events on the images\n",
      " |      \n",
      " |      It is only called if ImageViewer was instantiated with the parameter \n",
      " |      clickable = `True`. This function gets the information of where an \n",
      " |      Image has been clicked, and then stores it in `self.mouse_coords`. \n",
      " |      This values can later be accessed by a transform or function.\n",
      " |  \n",
      " |  options_button(self, change)\n",
      " |      Callback of button *Options*, to switch to options menu\n",
      " |  \n",
      " |  prev_button_callback(self, change)\n",
      " |      Callback of *Prev* button, to browse to the previous image. \n",
      " |      \n",
      " |      It is only active when there are several images, and the display mode\n",
      " |      is single image. When there is no previous image, it is disabled.\n",
      " |  \n",
      " |  reset(self, change)\n",
      " |      Button to reset the state of the viewer\n",
      " |      \n",
      " |      The viewer is brought back to the state in which it was instantiated\n",
      " |      (except for the widgets menu, which will always stay there). This\n",
      " |      applies for transforms transform, color scaling, zooming, axis, \n",
      " |      colorbar, etc.\n",
      " |  \n",
      " |  reset_clickables(self)\n",
      " |      Button to reset information on clickables.\n",
      " |      \n",
      " |      It is only active when the parameter `clickable` is set to `True`\n",
      " |      during initialization.\n",
      " |  \n",
      " |  retrieve_name(self, var)\n",
      " |      Function to retrieve the name of a variable in str form\n",
      " |  \n",
      " |  save(self, change)\n",
      " |  \n",
      " |  set_axis(self, axis=False)\n",
      " |  \n",
      " |  set_colorbar(self, colorbar=True)\n",
      " |  \n",
      " |  set_colormap(self, colormap='gray')\n",
      " |  \n",
      " |  set_widgets(self, widgets=True)\n",
      " |  \n",
      " |  show_histogram(self, hist=False)\n",
      " |  \n",
      " |  showw_button_callback(self, change)\n",
      " |      Callback of button *Back*, to show main menu.\n",
      " |  \n",
      " |  update_hist_lines(self)\n",
      " |      Function to reflect changes of brightness and contrast on the histogram\n",
      " |      0123456789112345678921234567893123456789412345678951234567896123456789712345 67898123456789\n",
      " |              Every time the b&c slider is called (to adjust the colorscaling on \n",
      " |              the images) This function is called to adjust the diagonal line on \n",
      " |              the histogram to reflect this changes.\n",
      " |  \n",
      " |  update_histogram(self)\n",
      " |      Auxiliary function to update the histograms.\n",
      " |      \n",
      " |      This function is called by `__init__`, `change_image`, `x_w_callback`\n",
      " |      and any function that modifies the current display. It takes ensures\n",
      " |      that the histogram in display matches the image.\n",
      " |  \n",
      " |  update_stats(self, clicks='')\n",
      " |      Function to update the satatistics on the images in display. \n",
      " |      \n",
      " |      It is called in almost any event of the ImageViewer (zooming, \n",
      " |      changing image, aplying a transform, changing the colorlimit),\n",
      " |      and always reflects the statistics of the images in display.\n",
      " |  \n",
      " |  update_view(self)\n",
      " |      Function that updates the widget menu as requested by a user.\n",
      " |  \n",
      " |  x_w_button_callback(self, change)\n",
      " |      Callback of button *Extra Widgets*, to go to Extra Widgets menu\n",
      " |      \n",
      " |      It is only active when the parameters `new_widgets` and `callbacks`\n",
      " |      were given to the __init__ function.\n",
      " |  \n",
      " |  x_w_callback(self, change)\n",
      " |      Callback of user defined transforms button, to apply transform(s) \n",
      " |      \n",
      " |      It is only active when the parameters `new_widgets` and `callbacks` \n",
      " |      are included in the initialization. If there is only one callback, \n",
      " |      it applies that callback to all the images in the ImageViewer. If \n",
      " |      there is one callback per image, then it applies the corresponding\n",
      " |      callback to each image.\n",
      " |  \n",
      " |  ----------------------------------------------------------------------\n",
      " |  Data descriptors defined here:\n",
      " |  \n",
      " |  __dict__\n",
      " |      dictionary for instance variables (if defined)\n",
      " |  \n",
      " |  __weakref__\n",
      " |      list of weak references to the object (if defined)\n",
      "\n"
     ]
    },
    {
     "data": {
      "text/html": [
       "<style>.container { width:100% !important; }</style>"
      ],
      "text/plain": [
       "<IPython.core.display.HTML object>"
      ]
     },
     "metadata": {},
     "output_type": "display_data"
    }
   ],
   "source": [
    "help(viewer)\n",
    "\n",
    "# Import images\n",
    "car   = plt.imread('../images/car_pad.tif')\n",
    "hrct  = plt.imread('../images/hrct.tif')\n",
    "epfl = plt.imread('../images/epfl_snow.png')\n",
    "plate = plt.imread('../images/plate.tif')\n",
    "boats = plt.imread('../images/boats.tif')\n",
    "\n",
    "from IPython.core.display import display, HTML\n",
    "display(HTML(\"<style>.container { width:100% !important; }</style>\"))"
   ]
  },
  {
   "cell_type": "markdown",
   "metadata": {
    "kernel": "SoS"
   },
   "source": [
    "We are all set! Now let's start with the actual tutorial.\n",
    "## <a class=\"anchor\"></a> 1. Construction & Features\n",
    "[Back to Index](#Index)\n",
    "\n",
    "In this section we will illustrate many of the functionalities of IPLabViewer, as well as its customization capabilities. Run the following cell and explore its results while reading the explanatory cell below it. Commented you will find other ways of initiating the viewer. You can uncomment them and see the results, or experiment by yourself! "
   ]
  },
  {
   "cell_type": "code",
   "execution_count": 18,
   "metadata": {
    "kernel": "SoS"
   },
   "outputs": [
    {
     "data": {
      "application/vnd.jupyter.widget-view+json": {
       "model_id": "1be0ea2a6f9142df81291c45774813d1",
       "version_major": 2,
       "version_minor": 0
      },
      "text/plain": [
       "HBox(children=(Output(layout=Layout(width='80%')), Output(), Output(layout=Layout(width='25%'))))"
      ]
     },
     "metadata": {},
     "output_type": "display_data"
    }
   ],
   "source": [
    "# First we declare parameters for the viewer\n",
    "first_list = [boats, plate, car, hrct]\n",
    "title_list = ['Boats', 'Plate']\n",
    "\n",
    "# Now we call the image viewer with the image list as first argument. The rest of the arguments are optional\n",
    "# first_viewer = viewer(first_list, title = title_list, colorbar = False, widgets = True, \n",
    "#                       hist = False, axis = True, cmap = 'nipy_spectral')\n",
    "\n",
    "# first_viewer = viewer(first_list)\n",
    "first_viewer = viewer(first_list, title = title_list, colorbar = False, widgets = True, \n",
    "                      hist = False, axis = True, cmap = 'nipy_spectral', subplots = [2, 2])\n",
    "# first_viewer = viewer(epfl) \n",
    "# first_viewer = viewer(boats, title = title_list, colorbar = False, widgets = True, \n",
    "#                       hist = True, cmap = 'nipy_spectral')\n",
    "\n",
    "\n",
    "\n",
    "# plt.figure()\n",
    "# plt.imshow(boats)"
   ]
  },
  {
   "cell_type": "markdown",
   "metadata": {
    "kernel": "SoS"
   },
   "source": [
    "To create an IPLabViewer object, you simply call the function `viewer`. You can do that without assigning a variable name, but it is best to do so. Ideally, the variable should be self-explanatory and end with the word *viewer* to avoid confusion (for example, `first_viewer` as in the cell above).\n",
    "\n",
    "* **Images**: The same viewer can load many images at once. In this example, it was created with $4$ images. By default, you can switch between the images using the buttons `Prev` and `Next` on the widgets panel.\n",
    "* **Titles**: You can give the viewer titles for each image, which will be shown immediately above it. If you do not provide a title for some images, the variable name will be shown by default. In this example, only $2$ were given, showing the default behaviour.\n",
    "* **Customization**: Several of the class' functionalities (e.g., `widgets`, `hist`, `axis`, `colorbar`) can be enabled from the beginning (they default to `False`). A user can later turn them off using the widgets or by calling methods ([see section 1.C](#-1.C.-Programmatic-Customization)) of the object. \n",
    "* **Colormap**: The colormap to be used can be set from the start with the parameter `cmap = 'colormap'`, and dynamically changed using `Options` and choosing one of the supported colormaps in the drop-down menu. \n",
    "* **Statistics**: On the lower part of the widget panel, the image statistics of the area of the image being displayed are shown. If you use the button with a little square at the left of the images to zoom into a selected region, you will see the statistics are updated in real time. You can also use the button with crossed double-arrows to pan through the image at a specific level of zoom. You can always use the button *Reset* to see the whole image again.\n",
    "\n",
    "<div class=\"alert alert-danger\">\n",
    "<b>Beware: </b> The statistics displayed in the <b>IPLabViewer</b> objects are rounded to the second decimal. If you need an exact statistic, use the methods `np.mean()` or `np.std()` on the images (NumPy arrays) directly.\n",
    "</div>\n",
    "\n",
    "* **Histogram**: Notice how there is a diagonal black line plotted on top of the histogram. If you change the *Brightness & Contrast* slider, this line will move according to the values of the histogram that you are visualizing.  \n",
    "\n",
    "<div class=\"alert alert-info\">\n",
    "<b>Note: </b> If you display an RGB/RGBA image, the histogram functionality will be disabled. Use the <i>Next</i> and <i>Prev</i> buttons to navigate through the images until you reach <code>epfl</code>, \n",
    "</div>\n",
    "\n",
    "* **Display mode**: There are two options to display a list of images:\n",
    "    * Default display: Display only one image at a time, and use the buttons *Next* and *Prev* to browse the different images. \n",
    "    * Set `subplots = [m, n]`: Arrange the images in an $m\\times n$ grid.\n",
    "    \n",
    "Modify the last cell, include the parameter `subplots = [m, n]`, and play with different values of `m`, `n`, and different options for the parameter `hist`. You will find that if `m*n < len(first_list)` that is, if there are less grid spaces than images, the *viewer* will only consider the images for which there is space for. On the other hand, if `m*n > len(first_list)`, you will have the required space, but without any images on it. The parameter `subplots` can be very helpful if you want to look at several images at the same time or side by side, but you will find that if you want to look at the images *and* histograms at the same time, the viewer starts getting very packed. \n",
    "\n",
    "<div class=\"alert alert-warning\">\n",
    "    \n",
    "<b>Note: </b> Consider that everytime you call a viewer, you are opening <b>two</b> matplotlib figures. This can quicly start consuming more memory than you would want. Though we do not close the figures through this tutorial (so that you can go back to previous viewers anytime), keep in mind that you can close them with the command <code>plt.close('all')</code> .\n",
    "</div>"
   ]
  },
  {
   "cell_type": "markdown",
   "metadata": {
    "kernel": "SoS"
   },
   "source": [
    "## <a class=\"anchor\"></a> 2. Using Widgets\n",
    "[Back to Index](#Index)\n",
    "\n",
    "If you just want a quick visualization, you can instantiate the IPLabViewer with the image you want to display (or list of images). All the parameters will be set to their default values (`cmap = 'gray'`, one image being displayed at a time, all the features set to off), and you will see a button with the legend *Show Widgets* at the bottom-left of the image. If you later want to explore the image, you can use the widgets to change the settings. \n",
    "\n",
    "Run the next cell to get all the default settings. Go through all the widgets and explore their options (click on the button *Show Widgets* to activate them) while going through the explanatory cell below it."
   ]
  },
  {
   "cell_type": "code",
   "execution_count": 19,
   "metadata": {
    "kernel": "SoS"
   },
   "outputs": [
    {
     "data": {
      "application/vnd.jupyter.widget-view+json": {
       "model_id": "8f85bee226074ad9894c9d1c773b7a98",
       "version_major": 2,
       "version_minor": 0
      },
      "text/plain": [
       "HBox(children=(Output(layout=Layout(width='80%')), Output(), Output(layout=Layout(width='25%'))))"
      ]
     },
     "metadata": {},
     "output_type": "display_data"
    },
    {
     "data": {
      "application/vnd.jupyter.widget-view+json": {
       "model_id": "876d8f92f79e4140b549a0f8f4644517",
       "version_major": 2,
       "version_minor": 0
      },
      "text/plain": [
       "Button(description='Show Widgets', style=ButtonStyle())"
      ]
     },
     "metadata": {},
     "output_type": "display_data"
    }
   ],
   "source": [
    "# Now we call the image viewer with the image list as first argument. The rest of the arguments are optional\n",
    "using_widgets_viewer = viewer([car, epfl, boats], subplots = [3, 1])\n",
    "# using_widgets_viewer.axs_hist"
   ]
  },
  {
   "cell_type": "markdown",
   "metadata": {
    "kernel": "SoS"
   },
   "source": [
    "Your first view will consist of:\n",
    "* A series of buttons at the extreme left, which serve to control the dynamic environment of matplotlib. If you hover your mouse in the buttons, wou will see what each button does. You can use them to zoom to a region, to pan the axis, and to save the current display in png format. The top button is to hide these three buttons.\n",
    "* At the right, you will see the figure holding the images (if you are unfamiliar with the matplotlib environment, you can check the documentation for a [Figure](https://matplotlib.org/3.3.1/api/_as_gen/matplotlib.figure.Figure.html#matplotlib.figure.Figure) (top container) and for an [AxesImage](https://matplotlib.org/3.1.1/api/image_api.html#matplotlib.image.AxesImage) (holding every image)). You can change the size of a figure using the small gray triangle (bottom-right corner). If you hover your cursor over the triangle, you will see it change to a two-sided arrow. By clicking on it and dragging you will be able to adjust the figure size.\n",
    "* A button with the legend *Show Widgets* below the figure. Clicking it will take you to the widget main menu. \n",
    "\n",
    "In the widgets main menu  (at the right of the figure) you will see the following widgets:\n",
    "* *Brightness and Contrast* Slider (with its label on top of it): In this menu you will be able to change the color scaling of a **grayscale** image through a slider, given in percentages of original.\n",
    "* *Show Histogram* Button: Show or hide the histograms of the images.\n",
    "* *Options* Button: It will take you to the options menu, where you will be able to show or hide the axis, the colorbar, and change the colormap (only grayscale images). \n",
    "* *Reset* Button: If you clicking after doing any operations, all will be reverted (the colormap will be set to the original one, it will hide the colorbar and the axis, reset the color scaling and the zoom).\n",
    "* *Statistics* Textbox: Here you will see the mean, the standard deviation, the range of values and the size of the image. Mean, standard deviation and range of values will be updated when you zoom to a region. "
   ]
  },
  {
   "cell_type": "markdown",
   "metadata": {
    "kernel": "SoS"
   },
   "source": [
    "## <a class=\"anchor\"></a> 3. Programmatic Customization\n",
    "[Back to Index](#Index)\n",
    "\n",
    "Most options can be modified both through widgets and _programmatically_ (in code). Run the following cells. In the first one, we will create the object `car_viewer`, which displays the image `car`. By running the next cells, we will produce changes on the `car_viewer` without interacting with it directly. Run them **one by one**, and observe the subsequent changes on `car_viewer`."
   ]
  },
  {
   "cell_type": "code",
   "execution_count": 20,
   "metadata": {
    "kernel": "SoS"
   },
   "outputs": [
    {
     "data": {
      "application/vnd.jupyter.widget-view+json": {
       "model_id": "d40601b8db1b458191ae930f121a7df5",
       "version_major": 2,
       "version_minor": 0
      },
      "text/plain": [
       "HBox(children=(Output(layout=Layout(width='80%')), Output(), Output(layout=Layout(width='25%'))))"
      ]
     },
     "metadata": {},
     "output_type": "display_data"
    },
    {
     "data": {
      "application/vnd.jupyter.widget-view+json": {
       "model_id": "",
       "version_major": 2,
       "version_minor": 0
      },
      "text/plain": [
       "Button(description='Show Widgets', style=ButtonStyle())"
      ]
     },
     "metadata": {},
     "output_type": "display_data"
    }
   ],
   "source": [
    "car_viewer = viewer(car)"
   ]
  },
  {
   "cell_type": "code",
   "execution_count": 21,
   "metadata": {
    "kernel": "SoS"
   },
   "outputs": [],
   "source": [
    "car_viewer.set_axis(axis = True)"
   ]
  },
  {
   "cell_type": "code",
   "execution_count": 22,
   "metadata": {
    "kernel": "SoS"
   },
   "outputs": [],
   "source": [
    "car_viewer.set_widgets(widgets = True)"
   ]
  },
  {
   "cell_type": "code",
   "execution_count": 23,
   "metadata": {
    "kernel": "SoS"
   },
   "outputs": [],
   "source": [
    "car_viewer.set_colormap(colormap = 'viridis')"
   ]
  },
  {
   "cell_type": "code",
   "execution_count": 24,
   "metadata": {
    "kernel": "SoS"
   },
   "outputs": [],
   "source": [
    "car_viewer.show_histogram(hist = True)"
   ]
  },
  {
   "cell_type": "code",
   "execution_count": 25,
   "metadata": {
    "kernel": "SoS"
   },
   "outputs": [],
   "source": [
    "car_viewer.set_axis(axis = False)"
   ]
  },
  {
   "cell_type": "code",
   "execution_count": 26,
   "metadata": {
    "kernel": "SoS"
   },
   "outputs": [],
   "source": [
    "car_viewer.set_colorbar(colorbar = True)"
   ]
  },
  {
   "cell_type": "markdown",
   "metadata": {
    "kernel": "SoS"
   },
   "source": [
    "As you can see, there are many things that you can do programmatically. If you are familiar with Object-Oriented Programming, you probably know that every single characteristic of the viewer is an attribute and that you can modify the attributes of each individual *viewer* object. Check our extensive wiki to get to know all the attributes and methods of **IPLabViewer**, and if you are confident with using *Ipywidgets*, you will be able to customize every viewer to your needs. "
   ]
  },
  {
   "cell_type": "markdown",
   "metadata": {
    "kernel": "SoS"
   },
   "source": [
    "## <a class=\"anchor\"></a> 4. User Defined Widgets\n",
    "[Back to Index](#Index)\n",
    "\n",
    "One of the goals of **IPLabViewer** was for it to be as intuitive and simple as possible, but at the same time to offer as much functionality as possible to an interested user. The result is the possibility to add *User Define Widgets*. These serve the purpose of applying a specific operation or transformation to your images, a transformation that might depend one one or more parameters. **IPLabViewer** allows you to create a function in a Jupyter cell and apply it simultaneously to all images within your **IPLabViewer** object with the help of a set of sliders. The function or transformation will take as parameters:\n",
    "\n",
    "* an image (`NumPy array`), and \n",
    "* one or more parameters.\n",
    "\n",
    "Your function will then  apply an operation on the image that depends on the parameters. Without advanced knowledge of matplotlib, you would have to manually run the same process several times, and visualize the results each time. With **IPLabViewer**, you can simply declare the widgets(s) that choose the parameters and an activation function as parameters to the viewer, and it will call your function and update the images for you. \n",
    "\n",
    "Additional to the core function that actually performs the operation, you need to declare an activation function that will take as input **only an image**, and will get the necessary parameters from the widgets. This activation function will subsequently call your transformation.\n",
    "\n",
    "In the next cells, you will see a very basic example. We will apply a pixelwise operation on the image `car`: All the pixels with a value below a treshold (given in $\\%$) will be set to the *maximum* value. We will guide you through all the process.\n",
    "\n",
    "First, we define the thresholding function `threshold_function`. Run the next cell to define it."
   ]
  },
  {
   "cell_type": "code",
   "execution_count": 27,
   "metadata": {
    "kernel": "SoS"
   },
   "outputs": [],
   "source": [
    "# Define your function\n",
    "def threshold_function(image, threshold):    \n",
    "    # We make a copy of the original, where we will apply our threshold.\n",
    "    output = np.copy(image)\n",
    "    # Get actual value, remember that the parameter 'threshold' is a percentage of the maximum\n",
    "    value = threshold*0.01*np.amax(image)\n",
    "    # Apply threshold to output\n",
    "    output[image < value] = np.amax(image)\n",
    "    return output"
   ]
  },
  {
   "cell_type": "markdown",
   "metadata": {
    "kernel": "SoS"
   },
   "source": [
    "Besides defining your function, you need to define the corresponding slider(s), a button to run `your_function` with the sliders' values, and the activation function (from here on called *callback*) that will run `threshold_function` (a.k.a., the slider's _callback_ function).\n",
    "\n",
    "If these sounds a bit complex, the example will make it clear. We will use an integer slider in the range $[0,100]$ ([`widgets.IntSlider`](https://ipywidgets.readthedocs.io/en/latest/examples/Widget%20List.html)), a button that clearly specifies what our function does (`widgets.Button`), and a callback function `callback` that calls `threshold_function` with the slider's value as threshold. We will pass them to the viewer through the parameters.\n",
    "\n",
    "* `new_widgets = [widgets.intSlider, widgets.Button]`\n",
    "* `callbacks = [callback]`\n",
    "\n",
    "Run the next cell, click the button *Extra Widgets*, and try different values. Remember to click on `Apply Threshold`!"
   ]
  },
  {
   "cell_type": "code",
   "execution_count": 32,
   "metadata": {
    "kernel": "SoS"
   },
   "outputs": [
    {
     "data": {
      "application/vnd.jupyter.widget-view+json": {
       "model_id": "9de6f6c950f548d797521d9e21949a64",
       "version_major": 2,
       "version_minor": 0
      },
      "text/plain": [
       "HBox(children=(Output(layout=Layout(width='80%')), Output(), Output(layout=Layout(width='25%'))))"
      ]
     },
     "metadata": {},
     "output_type": "display_data"
    }
   ],
   "source": [
    "# Declare slider\n",
    "threshold_slider = widgets.IntSlider(value = 0,min = 0, max = 100, step = 1, description = 'Threshold')\n",
    "\n",
    "# Declare button with meaningful description\n",
    "thr_activation_button = widgets.Button(description = 'Apply Threshold')\n",
    "\n",
    "# Declare callback\n",
    "def thr_callback(img):\n",
    "    # Get slider value\n",
    "    threshold = threshold_slider.value\n",
    "    # Call your function\n",
    "    output = threshold_function(img, threshold)\n",
    "    return output\n",
    "\n",
    "# Call viewer, passing the widget and callback separately as lists\n",
    "threshold_viewer = viewer([car],  new_widgets = [threshold_slider, thr_activation_button], callbacks = [thr_callback], widgets = True)"
   ]
  },
  {
   "cell_type": "markdown",
   "metadata": {
    "kernel": "SoS"
   },
   "source": [
    "Let's try a different example to further show the functionality of additional widgets. We will use scikit-image *dilation* method ([see documentation here](https://scikit-image.org/docs/dev/api/skimage.morphology.html#skimage.morphology.dilation)), and apply it at the same time to the images `plate`, and `lena`. \n",
    "\n",
    "To dilate an image using *scikit-image*, we will import the module `morphology`. Inside our method (called `dilate(img, b)`), we will first generate a square structural element of size $b\\times b$, using the method [`numpy.ones()`](https://numpy.org/doc/stable/reference/generated/numpy.ones.html). Then we will called the method on the image `img`\n",
    "\n",
    "Run the next cell to import the module `morphology` and declare the function."
   ]
  },
  {
   "cell_type": "code",
   "execution_count": 29,
   "metadata": {
    "kernel": "SoS"
   },
   "outputs": [],
   "source": [
    "from skimage import morphology\n",
    "\n",
    "def dilate(img, b):\n",
    "    selem = np.ones((b, b))\n",
    "    output = morphology.dilation(img, selem = selem)\n",
    "    return output"
   ]
  },
  {
   "cell_type": "markdown",
   "metadata": {
    "kernel": "SoS"
   },
   "source": [
    "Now, like on our last example, we will declare a slider and a callback. Run the next cell to declare them."
   ]
  },
  {
   "cell_type": "code",
   "execution_count": 30,
   "metadata": {
    "kernel": "SoS"
   },
   "outputs": [],
   "source": [
    "# Declare slider\n",
    "b_slider = widgets.IntSlider(value = 3,min = 1, max = 6, step = 1, description = 'Size:')\n",
    "\n",
    "# Declare button with meaningful description\n",
    "dil_activation_button = widgets.Button(description = 'Dilate')\n",
    "\n",
    "# Declare callback\n",
    "def dil_callback(img):\n",
    "    # Get slider value\n",
    "    b = b_slider.value\n",
    "    # Call your function\n",
    "    output = dilate(img, b)\n",
    "    return output"
   ]
  },
  {
   "cell_type": "markdown",
   "metadata": {
    "kernel": "SoS"
   },
   "source": [
    "Now we will call the viewer. Run the next cell to call the viewer with the images `plate` and `lena` (shown simultaneously), and passing our widgets and callback."
   ]
  },
  {
   "cell_type": "code",
   "execution_count": 31,
   "metadata": {
    "kernel": "SoS"
   },
   "outputs": [
    {
     "data": {
      "application/vnd.jupyter.widget-view+json": {
       "model_id": "6950c0461bc044089fc2470a2bc93062",
       "version_major": 2,
       "version_minor": 0
      },
      "text/plain": [
       "HBox(children=(Output(layout=Layout(width='80%')), Output(), Output(layout=Layout(width='25%'))))"
      ]
     },
     "metadata": {},
     "output_type": "display_data"
    }
   ],
   "source": [
    "# Call viewer, passing the widget and callback separately as lists\n",
    "plt.close('all')\n",
    "threshold_viewer = viewer([boats, plate],  new_widgets = [b_slider, dil_activation_button], \n",
    "                          callbacks = [dil_callback], widgets = True, subplots = [2, 1])"
   ]
  },
  {
   "cell_type": "markdown",
   "metadata": {},
   "source": [
    "## <a class=\"anchor\"></a> 5. Image Comparison\n",
    "[Back to Index](#Index)\n",
    "\n",
    "For didactic teaching and research purposes, there are several native features that make *IPLabViewer* optimal for visual comparison of images. This are:\n",
    "* Plot the difference the 2 images,\n",
    "* Joint zoom when displaying several images at a time,\n",
    "* Keep zoom when bwrosing through images with the same size.\n",
    "\n",
    "Run the next cell, go to the *Options* menu, and then click on image compare. Moreover, try to zoom and then browse between the 2 images."
   ]
  },
  {
   "cell_type": "code",
   "execution_count": 6,
   "metadata": {},
   "outputs": [],
   "source": [
    "boats_wrap  = skimage.filters.gaussian(boats, sigma=5 , mode = 'wrap', truncate=3, preserve_range=True)\n",
    "boats_reflect  = skimage.filters.gaussian(boats, sigma=5 , mode = 'reflect', truncate=3, preserve_range=True)"
   ]
  },
  {
   "cell_type": "code",
   "execution_count": 7,
   "metadata": {},
   "outputs": [
    {
     "data": {
      "application/vnd.jupyter.widget-view+json": {
       "model_id": "824106cc5ad649b9895bf56e18efcdfc",
       "version_major": 2,
       "version_minor": 0
      },
      "text/plain": [
       "HBox(children=(Output(layout=Layout(width='80%')), Output(), Output(layout=Layout(width='25%'))))"
      ]
     },
     "metadata": {},
     "output_type": "display_data"
    },
    {
     "data": {
      "application/vnd.jupyter.widget-view+json": {
       "model_id": "9ce66505b79642cb81cfae3bdcccbb1d",
       "version_major": 2,
       "version_minor": 0
      },
      "text/plain": [
       "Button(description='Show Widgets', style=ButtonStyle())"
      ]
     },
     "metadata": {},
     "output_type": "display_data"
    }
   ],
   "source": [
    "comp_viewer = viewer([boats_wrap, boats_reflect])"
   ]
  },
  {
   "cell_type": "markdown",
   "metadata": {},
   "source": [
    "The comparison function can also be activated when initializing the viewer. Run the next cell. Additionally, try the joint zoom functionality (click *Enable Joint Zoom* in the *Options Menu*). \n",
    "\n",
    "<div class = 'alert-info'>\n",
    "    \n",
    "**Note:** You can get rid of the comparison region by clicking *Reset*.\n",
    "</div>"
   ]
  },
  {
   "cell_type": "code",
   "execution_count": 8,
   "metadata": {},
   "outputs": [
    {
     "data": {
      "application/vnd.jupyter.widget-view+json": {
       "model_id": "d8ad0565488c40059f5bc658d5192d97",
       "version_major": 2,
       "version_minor": 0
      },
      "text/plain": [
       "HBox(children=(Output(layout=Layout(width='80%')), Output(), Output(layout=Layout(width='25%'))))"
      ]
     },
     "metadata": {},
     "output_type": "display_data"
    },
    {
     "data": {
      "application/vnd.jupyter.widget-view+json": {
       "model_id": "9e36b992b54a4dab99e4d87c84e9446c",
       "version_major": 2,
       "version_minor": 0
      },
      "text/plain": [
       "Button(description='Show Widgets', style=ButtonStyle())"
      ]
     },
     "metadata": {},
     "output_type": "display_data"
    }
   ],
   "source": [
    "comp_viewer = viewer([boats_wrap, boats_reflect], compare = True, subplots = [2, 1])"
   ]
  }
 ],
 "metadata": {
  "kernelspec": {
   "display_name": "Python 3",
   "language": "python",
   "name": "python3"
  },
  "language_info": {
   "codemirror_mode": {
    "name": "ipython",
    "version": 3
   },
   "file_extension": ".py",
   "mimetype": "text/x-python",
   "name": "python",
   "nbconvert_exporter": "python",
   "pygments_lexer": "ipython3",
   "version": "3.7.9"
  },
  "sos": {
   "kernels": [],
   "panel": {
    "displayed": true,
    "height": 0
   },
   "version": "0.21.9"
  }
 },
 "nbformat": 4,
 "nbformat_minor": 4
}
