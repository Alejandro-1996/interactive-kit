{
 "cells": [
  {
   "cell_type": "markdown",
   "id": "cubic-webcam",
   "metadata": {},
   "source": [
    "### Under Construction"
   ]
  },
  {
   "cell_type": "code",
   "execution_count": 1,
   "id": "strategic-mortgage",
   "metadata": {},
   "outputs": [],
   "source": [
    "import numpy as np\n",
    "import matplotlib.pyplot as plt\n",
    "import sys\n",
    "sys.path.insert(0, \"../src/interactive_kit/\")\n",
    "\n",
    "from sigviewer import SignalViewer as viewer\n",
    "\n",
    "%matplotlib widget"
   ]
  },
  {
   "cell_type": "code",
   "execution_count": 2,
   "id": "banner-edwards",
   "metadata": {},
   "outputs": [
    {
     "data": {
      "application/vnd.jupyter.widget-view+json": {
       "model_id": "8f8c2ac89e7a4cb5b68329c7dadbf714",
       "version_major": 2,
       "version_minor": 0
      },
      "text/plain": [
       "HBox(children=(Output(layout=Layout(width='80%')), VBox(children=(Button(description='Options', style=ButtonSt…"
      ]
     },
     "metadata": {},
     "output_type": "display_data"
    },
    {
     "data": {
      "text/plain": [
       "<sigviewer.SignalViewer at 0x2257b3b6448>"
      ]
     },
     "execution_count": 2,
     "metadata": {},
     "output_type": "execute_result"
    }
   ],
   "source": [
    "rand_sig = np.arange(10)\n",
    "rand_sig_2 = np.random.normal(size = (10))\n",
    "# viewer([rand_sig, rand_sig_2], style = 'dot', subplots = 'all')\n",
    "viewer([rand_sig, rand_sig_2], style = 'dot')"
   ]
  }
 ],
 "metadata": {
  "kernelspec": {
   "display_name": "Python 3",
   "language": "python",
   "name": "python3"
  },
  "language_info": {
   "codemirror_mode": {
    "name": "ipython",
    "version": 3
   },
   "file_extension": ".py",
   "mimetype": "text/x-python",
   "name": "python",
   "nbconvert_exporter": "python",
   "pygments_lexer": "ipython3",
   "version": "3.7.9"
  }
 },
 "nbformat": 4,
 "nbformat_minor": 5
}
